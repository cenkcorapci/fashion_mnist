{
 "cells": [
  {
   "cell_type": "code",
   "execution_count": null,
   "metadata": {
    "_cell_guid": "2c3412a4-039b-4229-9387-9321169f16eb",
    "_uuid": "8def9627e9d48b26de3159fc9a2ec38e854ab16e"
   },
   "outputs": [],
   "source": [
    "from dl.simple_cnn import SimpleCNN\n",
    "from dl.shuffle_net import ShuffleNetV2\n",
    "from dl.mobile_net import MobileNET\n",
    "from dl.wide_resnet import WideResNet\n",
    "from dl.capsule_net import CapsuleNet\n",
    "from dl.callbacks.plot_loss import PlotLosses\n",
    "from data.data_set import get_data\n",
    "from tensorflow.keras.preprocessing.image import ImageDataGenerator\n",
    "from tensorflow.keras.optimizers import RMSprop, Adam\n",
    "from tensorflow.keras.callbacks import ReduceLROnPlateau, TerminateOnNaN, EarlyStopping, ModelCheckpoint, TensorBoard\n",
    "from config import DL_MODELS_PATH, TB_LOGS_PATH\n",
    "import os\n",
    "import matplotlib.pyplot as plt\n",
    "import numpy as np\n",
    "import pathlib\n",
    "from swa.tfkeras import SWA\n",
    "from dl.callbacks.cyclical_lr import CyclicLR\n",
    "from plotly.offline import init_notebook_mode\n",
    "from visualization.visualize_history import plot_accuracy_and_loss\n",
    "\n",
    "init_notebook_mode(connected=True)"
   ]
  },
  {
   "cell_type": "code",
   "execution_count": null,
   "metadata": {},
   "outputs": [],
   "source": [
    "((X_train, y_train), (X_val, y_val)) = get_data()"
   ]
  },
  {
   "cell_type": "code",
   "execution_count": null,
   "metadata": {},
   "outputs": [],
   "source": [
    "data_generator = ImageDataGenerator(\n",
    "        featurewise_center=False,  # set input mean to 0 over the dataset\n",
    "        samplewise_center=False,  # set each sample mean to 0\n",
    "        featurewise_std_normalization=False,  # divide inputs by std of the dataset\n",
    "        samplewise_std_normalization=False,  # divide each input by its std\n",
    "        zca_whitening=False,  # apply ZCA whitening\n",
    "        rotation_range= .8,  # randomly rotate images in the range (degrees, 0 to 180)\n",
    "        zoom_range = .1, # Randomly zoom image \n",
    "        width_shift_range= .1,  # randomly shift images horizontally (fraction of total width)\n",
    "        height_shift_range= .1,  # randomly shift images vertically (fraction of total height)\n",
    "        horizontal_flip=.05,  # randomly flip images horizontally\n",
    "        vertical_flip=False)  # randomly flip images vertically"
   ]
  },
  {
   "cell_type": "code",
   "execution_count": null,
   "metadata": {},
   "outputs": [],
   "source": [
    "def get_callbacks(model_name, use_cyclic_lr=False, plot=False):\n",
    "    callbacks = [TerminateOnNaN(), EarlyStopping(monitor='val_accuracy', patience=5)]\n",
    "    callbacks.append(ModelCheckpoint(os.path.join(DL_MODELS_PATH, model_name + '-{epoch:02d}-{val_accuracy:.2f}.hdf5'), monitor='val_categorical_accuracy', verbose=1, save_best_only=True, mode='max'))\n",
    "    tb_path = os.path.join(TB_LOGS_PATH, model_name)\n",
    "    pathlib.Path(tb_path).mkdir(parents=True, exist_ok=True)\n",
    "    callbacks.append(TensorBoard(log_dir=tb_path))\n",
    "    callbacks.append(SWA(start_epoch=5, lr_schedule='constant', swa_lr=0.001, verbose=1))\n",
    "    if plot:\n",
    "        callbacks.append(PlotLosses())\n",
    "    if use_cyclic_lr:\n",
    "        callbacks.append(CyclicLR(base_lr=0.001, max_lr=0.006, step_size=2000.))\n",
    "    else:\n",
    "        rlronp =  ReduceLROnPlateau(monitor='val_loss',\n",
    "                                    patience=3,\n",
    "                                    verbose=1,\n",
    "                                    factor=0.5,\n",
    "                                    min_lr=0.00005)\n",
    "        \n",
    "        callbacks.append(rlronp)\n",
    "    return callbacks"
   ]
  },
  {
   "cell_type": "code",
   "execution_count": null,
   "metadata": {},
   "outputs": [],
   "source": [
    "epochs = 100\n",
    "Learning_rate = 0.001\n",
    "decay= 5 * Learning_rate / epochs\n",
    "optimizers = {'adam': Adam(lr=Learning_rate, decay= 3 * Learning_rate / epochs),\n",
    "              'rmsprop': RMSprop(lr=Learning_rate, rho=0.9, epsilon=1e-08, decay= 0)}"
   ]
  },
  {
   "cell_type": "code",
   "execution_count": null,
   "metadata": {},
   "outputs": [],
   "source": [
    "epochs = 50\n",
    "histories = {}\n",
    "models = {}\n",
    "\n",
    "for opt_name, opt in optimizers.items():\n",
    "    # Train capsule net\n",
    "    model_name = f'capsnet_{opt_name}'\n",
    "    model = WideResNet(opt)\n",
    "    history = model.train(data_generator, X_train, y_train, X_val, y_val,\n",
    "                          32, epochs, get_callbacks(model_name))\n",
    "    histories[model_name] = history.history\n",
    "    models[model_name] = model\n",
    "    \n",
    "    # Train a basic cnn\n",
    "    model_name = f'simple_cnn_{opt_name}'\n",
    "    model = SimpleCNN(opt)\n",
    "    history = model.train(data_generator, X_train, y_train, X_val, y_val,\n",
    "                          2048, epochs, get_callbacks(model_name))\n",
    "    histories[model_name] = history.history\n",
    "    models[model_name] = model\n",
    "    \n",
    "    # Train shufflenetv2\n",
    "    model_name = f'shuffle_netv2_{opt_name}'\n",
    "    model = SimpleCNN(opt)\n",
    "    history = model.train(data_generator, X_train, y_train, X_val, y_val,\n",
    "                          256, epochs, get_callbacks(model_name))\n",
    "    histories[model_name] = history.history\n",
    "    models[model_name] = model\n",
    "    \n",
    "    # Train efficient net\n",
    "    model_name = f'wide_resnet_{opt_name}'\n",
    "    model = WideResNet(opt)\n",
    "    history = model.train(data_generator, X_train, y_train, X_val, y_val,\n",
    "                          16, epochs, get_callbacks(model_name))\n",
    "    histories[model_name] = history.history\n",
    "    models[model_name] = model\n",
    "    \n",
    "    # Train mobile_net\n",
    "    model_name = f'mobile_net_{opt_name}'\n",
    "    model = MobileNET(opt)\n",
    "    history = model.train(data_generator, X_train, y_train, X_val, y_val,\n",
    "                          32, epochs, get_callbacks(model_name))\n",
    "    histories[model_name] = history.history\n",
    "    models[model_name] = model"
   ]
  },
  {
   "cell_type": "code",
   "execution_count": null,
   "metadata": {},
   "outputs": [],
   "source": [
    "plot_accuracy_and_loss(histories)"
   ]
  },
  {
   "cell_type": "code",
   "execution_count": null,
   "metadata": {},
   "outputs": [],
   "source": []
  }
 ],
 "metadata": {
  "kernelspec": {
   "display_name": "Python 3",
   "language": "python",
   "name": "python3"
  },
  "language_info": {
   "codemirror_mode": {
    "name": "ipython",
    "version": 3
   },
   "file_extension": ".py",
   "mimetype": "text/x-python",
   "name": "python",
   "nbconvert_exporter": "python",
   "pygments_lexer": "ipython3",
   "version": "3.6.9"
  }
 },
 "nbformat": 4,
 "nbformat_minor": 1
}
