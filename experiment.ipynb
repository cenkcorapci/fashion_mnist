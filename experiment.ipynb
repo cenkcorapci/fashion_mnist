{
 "cells": [
  {
   "cell_type": "code",
   "execution_count": 1,
   "metadata": {
    "_cell_guid": "2c3412a4-039b-4229-9387-9321169f16eb",
    "_uuid": "8def9627e9d48b26de3159fc9a2ec38e854ab16e"
   },
   "outputs": [
    {
     "name": "stderr",
     "output_type": "stream",
     "text": [
      "2019-12-15 18:39:09,875 : INFO : Checking/creating directories...\n",
      "2019-12-15 18:39:09,875 : INFO : Directories are set.\n"
     ]
    },
    {
     "data": {
      "text/html": [
       "        <script type=\"text/javascript\">\n",
       "        window.PlotlyConfig = {MathJaxConfig: 'local'};\n",
       "        if (window.MathJax) {MathJax.Hub.Config({SVG: {font: \"STIX-Web\"}});}\n",
       "        if (typeof require !== 'undefined') {\n",
       "        require.undef(\"plotly\");\n",
       "        requirejs.config({\n",
       "            paths: {\n",
       "                'plotly': ['https://cdn.plot.ly/plotly-latest.min']\n",
       "            }\n",
       "        });\n",
       "        require(['plotly'], function(Plotly) {\n",
       "            window._Plotly = Plotly;\n",
       "        });\n",
       "        }\n",
       "        </script>\n",
       "        "
      ]
     },
     "metadata": {},
     "output_type": "display_data"
    }
   ],
   "source": [
    "from dl.simple_cnn import SimpleCNN\n",
    "from dl.shuffle_net import ShuffleNetV2\n",
    "from dl.callbacks.plot_loss import PlotLosses\n",
    "from data.data_set import get_data\n",
    "import tensorflow as tf\n",
    "from tensorflow.keras.preprocessing.image import ImageDataGenerator\n",
    "from tensorflow.keras.optimizers import RMSprop\n",
    "from tensorflow.keras.callbacks import TerminateOnNaN, EarlyStopping, ModelCheckpoint, TensorBoard\n",
    "from config import DL_MODELS_PATH, TB_LOGS_PATH\n",
    "import os\n",
    "import pathlib\n",
    "from swa.tfkeras import SWA\n",
    "from dl.callbacks.cyclical_lr import CyclicLR\n",
    "from plotly.offline import init_notebook_mode\n",
    "from visualization.visualize_history import plot_accuracy_and_loss\n",
    "init_notebook_mode(connected=True)"
   ]
  },
  {
   "cell_type": "code",
   "execution_count": 2,
   "metadata": {},
   "outputs": [],
   "source": [
    "((X_train, y_train), (X_val, y_val)) = get_data()"
   ]
  },
  {
   "cell_type": "code",
   "execution_count": 3,
   "metadata": {},
   "outputs": [],
   "source": [
    "data_generator = ImageDataGenerator(rotation_range=20,\n",
    "                                    width_shift_range=0.2,\n",
    "                                    height_shift_range=0.2,\n",
    "                                    horizontal_flip=True,\n",
    "                                    vertical_flip=True)"
   ]
  },
  {
   "cell_type": "code",
   "execution_count": null,
   "metadata": {},
   "outputs": [],
   "source": [
    "simple_cnn_model = SimpleCNN(optimizer=RMSprop())"
   ]
  },
  {
   "cell_type": "code",
   "execution_count": 4,
   "metadata": {},
   "outputs": [],
   "source": [
    "def get_callbacks(model_name):\n",
    "    callbacks = [TerminateOnNaN(), EarlyStopping(monitor='val_categorical_accuracy', patience=5)]\n",
    "    callbacks.append(ModelCheckpoint(os.path.join(DL_MODELS_PATH, model_name + '-{epoch:02d}-{val_accuracy:.2f}.hdf5'), monitor='val_categorical_accuracy', verbose=1, save_best_only=True, mode='max'))\n",
    "    tb_path = os.path.join(TB_LOGS_PATH, model_name)\n",
    "    pathlib.Path(tb_path).mkdir(parents=True, exist_ok=True)\n",
    "    callbacks.append(TensorBoard(log_dir=tb_path))\n",
    "    callbacks.append(PlotLosses())\n",
    "    callbacks.append(SWA(start_epoch=5, lr_schedule='constant', swa_lr=0.001, verbose=1))\n",
    "    callbacks.append(CyclicLR(base_lr=0.001, max_lr=0.006, step_size=2000.))\n",
    "    return callbacks"
   ]
  },
  {
   "cell_type": "code",
   "execution_count": null,
   "metadata": {},
   "outputs": [],
   "source": [
    "simple_cnn_history = simple_cnn_model.train(data_generator, X_train, y_train, X_val, y_val,\n",
    "                      64, 100, get_callbacks('simple_cnn'))"
   ]
  },
  {
   "cell_type": "code",
   "execution_count": null,
   "metadata": {},
   "outputs": [],
   "source": [
    "plot_accuracy_and_loss(simple_cnn_history.history)"
   ]
  },
  {
   "cell_type": "code",
   "execution_count": 5,
   "metadata": {},
   "outputs": [],
   "source": [
    "shufflenetv2_model = ShuffleNetV2(optimizer=RMSprop())"
   ]
  },
  {
   "cell_type": "code",
   "execution_count": null,
   "metadata": {},
   "outputs": [
    {
     "data": {
      "image/png": "[encoded data removed]",
      "text/plain": [
       "<Figure size 432x288 with 1 Axes>"
      ]
     },
     "metadata": {
      "needs_background": "light"
     },
     "output_type": "display_data"
    },
    {
     "name": "stdout",
     "output_type": "stream",
     "text": [
      "938/937 [==============================] - 511s 545ms/step - loss: 0.5845 - accuracy: 0.7929 - categorical_crossentropy: 0.5846 - categorical_accuracy: 0.7929 - val_loss: 0.7271 - val_accuracy: 0.7479 - val_categorical_crossentropy: 0.7289 - val_categorical_accuracy: 0.7479\n",
      "Epoch 8/100\n",
      " 19/937 [..............................] - ETA: 7:52 - loss: 0.5583 - accuracy: 0.8035 - categorical_crossentropy: 0.5583 - categorical_accuracy: 0.8035"
     ]
    }
   ],
   "source": [
    "shufflenetv2_history = shufflenetv2_model.train(data_generator, X_train, y_train, X_val, y_val,\n",
    "                      64, 100, get_callbacks('shufflenetv2'))"
   ]
  },
  {
   "cell_type": "code",
   "execution_count": null,
   "metadata": {},
   "outputs": [],
   "source": []
  }
 ],
 "metadata": {
  "kernelspec": {
   "display_name": "Python 3",
   "language": "python",
   "name": "python3"
  },
  "language_info": {
   "codemirror_mode": {
    "name": "ipython",
    "version": 3
   },
   "file_extension": ".py",
   "mimetype": "text/x-python",
   "name": "python",
   "nbconvert_exporter": "python",
   "pygments_lexer": "ipython3",
   "version": "3.7.4"
  }
 },
 "nbformat": 4,
 "nbformat_minor": 1
}
