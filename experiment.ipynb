{
 "cells": [
  {
   "cell_type": "code",
   "execution_count": 1,
   "metadata": {
    "_cell_guid": "2c3412a4-039b-4229-9387-9321169f16eb",
    "_uuid": "8def9627e9d48b26de3159fc9a2ec38e854ab16e"
   },
   "outputs": [
    {
     "name": "stderr",
     "output_type": "stream",
     "text": [
      "2019-12-16 14:58:00,412 : INFO : Checking/creating directories...\n",
      "2019-12-16 14:58:00,413 : INFO : Directories are set.\n"
     ]
    },
    {
     "data": {
      "text/html": [
       "        <script type=\"text/javascript\">\n",
       "        window.PlotlyConfig = {MathJaxConfig: 'local'};\n",
       "        if (window.MathJax) {MathJax.Hub.Config({SVG: {font: \"STIX-Web\"}});}\n",
       "        if (typeof require !== 'undefined') {\n",
       "        require.undef(\"plotly\");\n",
       "        requirejs.config({\n",
       "            paths: {\n",
       "                'plotly': ['https://cdn.plot.ly/plotly-latest.min']\n",
       "            }\n",
       "        });\n",
       "        require(['plotly'], function(Plotly) {\n",
       "            window._Plotly = Plotly;\n",
       "        });\n",
       "        }\n",
       "        </script>\n",
       "        "
      ]
     },
     "metadata": {},
     "output_type": "display_data"
    }
   ],
   "source": [
    "from dl.simple_cnn import SimpleCNN\n",
    "from dl.shuffle_net import ShuffleNetV2\n",
    "from dl.efficient_net import EfficientNet\n",
    "from dl.callbacks.plot_loss import PlotLosses\n",
    "from data.data_set import get_data\n",
    "from tensorflow.keras.preprocessing.image import ImageDataGenerator\n",
    "from tensorflow.keras.optimizers import RMSprop, Adam\n",
    "from tensorflow.keras.callbacks import ReduceLROnPlateau, TerminateOnNaN, EarlyStopping, ModelCheckpoint, TensorBoard\n",
    "from config import DL_MODELS_PATH, TB_LOGS_PATH\n",
    "import os\n",
    "import matplotlib.pyplot as plt\n",
    "import numpy as np\n",
    "import pathlib\n",
    "from swa.tfkeras import SWA\n",
    "from dl.callbacks.cyclical_lr import CyclicLR\n",
    "from plotly.offline import init_notebook_mode\n",
    "from visualization.visualize_history import plot_accuracy_and_loss\n",
    "init_notebook_mode(connected=True)"
   ]
  },
  {
   "cell_type": "code",
   "execution_count": 2,
   "metadata": {},
   "outputs": [],
   "source": [
    "((X_train, y_train), (X_val, y_val)) = get_data()"
   ]
  },
  {
   "cell_type": "code",
   "execution_count": 3,
   "metadata": {},
   "outputs": [],
   "source": [
    "data_generator = ImageDataGenerator(\n",
    "        featurewise_center=False,  # set input mean to 0 over the dataset\n",
    "        samplewise_center=False,  # set each sample mean to 0\n",
    "        featurewise_std_normalization=False,  # divide inputs by std of the dataset\n",
    "        samplewise_std_normalization=False,  # divide each input by its std\n",
    "        zca_whitening=False,  # apply ZCA whitening\n",
    "        rotation_range= .8,  # randomly rotate images in the range (degrees, 0 to 180)\n",
    "        zoom_range = .1, # Randomly zoom image \n",
    "        width_shift_range= .1,  # randomly shift images horizontally (fraction of total width)\n",
    "        height_shift_range= .1,  # randomly shift images vertically (fraction of total height)\n",
    "        horizontal_flip=.05,  # randomly flip images horizontally\n",
    "        vertical_flip=False)  # randomly flip images vertically"
   ]
  },
  {
   "cell_type": "code",
   "execution_count": 4,
   "metadata": {},
   "outputs": [],
   "source": [
    "def get_callbacks(model_name, use_cyclic_lr=False, plot=False):\n",
    "    callbacks = [TerminateOnNaN(), EarlyStopping(monitor='val_accuracy', patience=5)]\n",
    "    callbacks.append(ModelCheckpoint(os.path.join(DL_MODELS_PATH, model_name + '-{epoch:02d}-{val_accuracy:.2f}.hdf5'), monitor='val_categorical_accuracy', verbose=1, save_best_only=True, mode='max'))\n",
    "    tb_path = os.path.join(TB_LOGS_PATH, model_name)\n",
    "    pathlib.Path(tb_path).mkdir(parents=True, exist_ok=True)\n",
    "    callbacks.append(TensorBoard(log_dir=tb_path))\n",
    "    callbacks.append(SWA(start_epoch=5, lr_schedule='constant', swa_lr=0.001, verbose=1))\n",
    "    if plot:\n",
    "        callbacks.append(PlotLosses())\n",
    "    if use_cyclic_lr:\n",
    "        callbacks.append(CyclicLR(base_lr=0.001, max_lr=0.006, step_size=2000.))\n",
    "    else:\n",
    "        rlronp =  ReduceLROnPlateau(monitor='val_loss',\n",
    "                                    patience=3,\n",
    "                                    verbose=1,\n",
    "                                    factor=0.5,\n",
    "                                    min_lr=0.00005)\n",
    "        \n",
    "        callbacks.append(rlronp)\n",
    "    return callbacks"
   ]
  },
  {
   "cell_type": "code",
   "execution_count": 5,
   "metadata": {},
   "outputs": [],
   "source": [
    "epochs = 100\n",
    "Learning_rate = 0.001\n",
    "decay= 5 * Learning_rate / epochs\n",
    "optimizers = {'rmsprop': RMSprop(lr=Learning_rate, rho=0.9, epsilon=1e-08, decay= 0),\n",
    "              'adam': Adam(lr=Learning_rate, decay= 3 * Learning_rate / epochs)}"
   ]
  },
  {
   "cell_type": "code",
   "execution_count": 6,
   "metadata": {},
   "outputs": [
    {
     "name": "stdout",
     "output_type": "stream",
     "text": [
      "Epoch 1/50\n",
      "29/29 [============================>.] - ETA: 0s - loss: 1.0381 - accuracy: 0.6153 - categorical_crossentropy: 1.0381 - categorical_accuracy: 0.6153\n",
      "Epoch 00001: val_categorical_accuracy improved from -inf to 0.58430, saving model to /home/cenk/Research/pre-trained-models/cv/fashion_mnist/simple_cnn_rmsprop-01-0.58.hdf5\n",
      "30/29 [==============================] - 13s 448ms/step - loss: 1.0296 - accuracy: 0.6161 - categorical_crossentropy: 1.0354 - categorical_accuracy: 0.6161 - val_loss: 1.7119 - val_accuracy: 0.5843 - val_categorical_crossentropy: 1.7120 - val_categorical_accuracy: 0.5843\n",
      "Epoch 2/50\n",
      "29/29 [============================>.] - ETA: 0s - loss: 0.6526 - accuracy: 0.7555 - categorical_crossentropy: 0.6519 - categorical_accuracy: 0.7555\n",
      "Epoch 00002: val_categorical_accuracy improved from 0.58430 to 0.76420, saving model to /home/cenk/Research/pre-trained-models/cv/fashion_mnist/simple_cnn_rmsprop-02-0.76.hdf5\n",
      "30/29 [==============================] - 11s 357ms/step - loss: 0.6484 - accuracy: 0.7572 - categorical_crossentropy: 0.6476 - categorical_accuracy: 0.7572 - val_loss: 1.4329 - val_accuracy: 0.7642 - val_categorical_crossentropy: 1.4330 - val_categorical_accuracy: 0.7642\n",
      "Epoch 3/50\n",
      "29/29 [============================>.] - ETA: 0s - loss: 0.5517 - accuracy: 0.7917 - categorical_crossentropy: 0.5531 - categorical_accuracy: 0.7917\n",
      "Epoch 00003: val_categorical_accuracy did not improve from 0.76420\n",
      "30/29 [==============================] - 11s 350ms/step - loss: 0.5504 - accuracy: 0.7922 - categorical_crossentropy: 0.5517 - categorical_accuracy: 0.7922 - val_loss: 1.2795 - val_accuracy: 0.7600 - val_categorical_crossentropy: 1.2797 - val_categorical_accuracy: 0.7600\n",
      "Epoch 4/50\n",
      "29/29 [============================>.] - ETA: 0s - loss: 0.4921 - accuracy: 0.8140 - categorical_crossentropy: 0.4920 - categorical_accuracy: 0.8140\n",
      "Epoch 00004: val_categorical_accuracy improved from 0.76420 to 0.79640, saving model to /home/cenk/Research/pre-trained-models/cv/fashion_mnist/simple_cnn_rmsprop-04-0.80.hdf5\n",
      "30/29 [==============================] - 11s 363ms/step - loss: 0.4905 - accuracy: 0.8149 - categorical_crossentropy: 0.4904 - categorical_accuracy: 0.8149 - val_loss: 1.0637 - val_accuracy: 0.7964 - val_categorical_crossentropy: 1.0639 - val_categorical_accuracy: 0.7964\n",
      "\n",
      "Epoch 00005: starting stochastic weight averaging\n",
      "Epoch 5/50\n",
      "29/29 [============================>.] - ETA: 0s - loss: 0.4460 - accuracy: 0.8309 - categorical_crossentropy: 0.4472 - categorical_accuracy: 0.8309\n",
      "Epoch 00005: val_categorical_accuracy improved from 0.79640 to 0.81860, saving model to /home/cenk/Research/pre-trained-models/cv/fashion_mnist/simple_cnn_rmsprop-05-0.82.hdf5\n",
      "30/29 [==============================] - 11s 363ms/step - loss: 0.4456 - accuracy: 0.8312 - categorical_crossentropy: 0.4467 - categorical_accuracy: 0.8312 - val_loss: 0.8764 - val_accuracy: 0.8186 - val_categorical_crossentropy: 0.8767 - val_categorical_accuracy: 0.8186\n",
      "Epoch 6/50\n",
      "29/29 [============================>.] - ETA: 0s - loss: 0.4139 - accuracy: 0.8467 - categorical_crossentropy: 0.4131 - categorical_accuracy: 0.8467\n",
      "Epoch 00006: val_categorical_accuracy did not improve from 0.81860\n",
      "30/29 [==============================] - 11s 359ms/step - loss: 0.4141 - accuracy: 0.8461 - categorical_crossentropy: 0.4134 - categorical_accuracy: 0.8461 - val_loss: 0.8096 - val_accuracy: 0.7773 - val_categorical_crossentropy: 0.8098 - val_categorical_accuracy: 0.7773\n",
      "Epoch 7/50\n",
      "29/29 [============================>.] - ETA: 0s - loss: 0.3873 - accuracy: 0.8538 - categorical_crossentropy: 0.3866 - categorical_accuracy: 0.8538\n",
      "Epoch 00007: val_categorical_accuracy did not improve from 0.81860\n",
      "30/29 [==============================] - 11s 364ms/step - loss: 0.3862 - accuracy: 0.8541 - categorical_crossentropy: 0.3855 - categorical_accuracy: 0.8541 - val_loss: 0.7563 - val_accuracy: 0.7436 - val_categorical_crossentropy: 0.7567 - val_categorical_accuracy: 0.7436\n",
      "Epoch 8/50\n",
      "29/29 [============================>.] - ETA: 0s - loss: 0.3685 - accuracy: 0.8598 - categorical_crossentropy: 0.3690 - categorical_accuracy: 0.8598\n",
      "Epoch 00008: val_categorical_accuracy improved from 0.81860 to 0.85510, saving model to /home/cenk/Research/pre-trained-models/cv/fashion_mnist/simple_cnn_rmsprop-08-0.86.hdf5\n",
      "30/29 [==============================] - 11s 379ms/step - loss: 0.3685 - accuracy: 0.8599 - categorical_crossentropy: 0.3690 - categorical_accuracy: 0.8599 - val_loss: 0.5167 - val_accuracy: 0.8551 - val_categorical_crossentropy: 0.5169 - val_categorical_accuracy: 0.8551\n",
      "Epoch 9/50\n",
      "29/29 [============================>.] - ETA: 0s - loss: 0.3542 - accuracy: 0.8674 - categorical_crossentropy: 0.3538 - categorical_accuracy: 0.8674\n",
      "Epoch 00009: val_categorical_accuracy did not improve from 0.85510\n",
      "30/29 [==============================] - 11s 369ms/step - loss: 0.3548 - accuracy: 0.8671 - categorical_crossentropy: 0.3545 - categorical_accuracy: 0.8671 - val_loss: 0.5464 - val_accuracy: 0.7679 - val_categorical_crossentropy: 0.5465 - val_categorical_accuracy: 0.7679\n",
      "Epoch 10/50\n",
      "29/29 [============================>.] - ETA: 0s - loss: 0.3401 - accuracy: 0.8719 - categorical_crossentropy: 0.3407 - categorical_accuracy: 0.8719\n",
      "Epoch 00010: val_categorical_accuracy improved from 0.85510 to 0.88990, saving model to /home/cenk/Research/pre-trained-models/cv/fashion_mnist/simple_cnn_rmsprop-10-0.89.hdf5\n",
      "30/29 [==============================] - 11s 383ms/step - loss: 0.3393 - accuracy: 0.8722 - categorical_crossentropy: 0.3399 - categorical_accuracy: 0.8722 - val_loss: 0.3598 - val_accuracy: 0.8899 - val_categorical_crossentropy: 0.3598 - val_categorical_accuracy: 0.8899\n",
      "Epoch 11/50\n",
      "29/29 [============================>.] - ETA: 0s - loss: 0.3340 - accuracy: 0.8749 - categorical_crossentropy: 0.3326 - categorical_accuracy: 0.8749\n",
      "Epoch 00011: val_categorical_accuracy improved from 0.88990 to 0.89160, saving model to /home/cenk/Research/pre-trained-models/cv/fashion_mnist/simple_cnn_rmsprop-11-0.89.hdf5\n",
      "30/29 [==============================] - 12s 390ms/step - loss: 0.3337 - accuracy: 0.8749 - categorical_crossentropy: 0.3324 - categorical_accuracy: 0.8749 - val_loss: 0.3474 - val_accuracy: 0.8916 - val_categorical_crossentropy: 0.3473 - val_categorical_accuracy: 0.8916\n",
      "Epoch 12/50\n",
      "29/29 [============================>.] - ETA: 0s - loss: 0.3211 - accuracy: 0.8800 - categorical_crossentropy: 0.3211 - categorical_accuracy: 0.8800\n",
      "Epoch 00012: val_categorical_accuracy did not improve from 0.89160\n",
      "30/29 [==============================] - 12s 391ms/step - loss: 0.3205 - accuracy: 0.8802 - categorical_crossentropy: 0.3204 - categorical_accuracy: 0.8802 - val_loss: 0.3483 - val_accuracy: 0.8666 - val_categorical_crossentropy: 0.3482 - val_categorical_accuracy: 0.8666\n",
      "Epoch 13/50\n",
      "29/29 [============================>.] - ETA: 0s - loss: 0.3132 - accuracy: 0.8824 - categorical_crossentropy: 0.3129 - categorical_accuracy: 0.8824\n",
      "Epoch 00013: val_categorical_accuracy improved from 0.89160 to 0.89650, saving model to /home/cenk/Research/pre-trained-models/cv/fashion_mnist/simple_cnn_rmsprop-13-0.90.hdf5\n",
      "30/29 [==============================] - 12s 384ms/step - loss: 0.3123 - accuracy: 0.8827 - categorical_crossentropy: 0.3120 - categorical_accuracy: 0.8827 - val_loss: 0.2804 - val_accuracy: 0.8965 - val_categorical_crossentropy: 0.2802 - val_categorical_accuracy: 0.8965\n",
      "Epoch 14/50\n",
      "29/29 [============================>.] - ETA: 0s - loss: 0.3055 - accuracy: 0.8855 - categorical_crossentropy: 0.3061 - categorical_accuracy: 0.8855\n",
      "Epoch 00014: val_categorical_accuracy did not improve from 0.89650\n",
      "30/29 [==============================] - 11s 382ms/step - loss: 0.3046 - accuracy: 0.8858 - categorical_crossentropy: 0.3051 - categorical_accuracy: 0.8858 - val_loss: 0.3218 - val_accuracy: 0.8791 - val_categorical_crossentropy: 0.3221 - val_categorical_accuracy: 0.8791\n",
      "Epoch 15/50\n",
      "29/29 [============================>.] - ETA: 0s - loss: 0.3005 - accuracy: 0.8864 - categorical_crossentropy: 0.3001 - categorical_accuracy: 0.8864\n",
      "Epoch 00015: val_categorical_accuracy did not improve from 0.89650\n",
      "30/29 [==============================] - 12s 387ms/step - loss: 0.3017 - accuracy: 0.8859 - categorical_crossentropy: 0.3014 - categorical_accuracy: 0.8859 - val_loss: 0.4010 - val_accuracy: 0.8406 - val_categorical_crossentropy: 0.4012 - val_categorical_accuracy: 0.8406\n"
     ]
    },
    {
     "name": "stdout",
     "output_type": "stream",
     "text": [
      "Epoch 16/50\n",
      "29/29 [============================>.] - ETA: 0s - loss: 0.2937 - accuracy: 0.8886 - categorical_crossentropy: 0.2941 - categorical_accuracy: 0.8886\n",
      "Epoch 00016: val_categorical_accuracy improved from 0.89650 to 0.90460, saving model to /home/cenk/Research/pre-trained-models/cv/fashion_mnist/simple_cnn_rmsprop-16-0.90.hdf5\n",
      "30/29 [==============================] - 11s 378ms/step - loss: 0.2940 - accuracy: 0.8887 - categorical_crossentropy: 0.2943 - categorical_accuracy: 0.8887 - val_loss: 0.2531 - val_accuracy: 0.9046 - val_categorical_crossentropy: 0.2531 - val_categorical_accuracy: 0.9046\n",
      "Epoch 17/50\n",
      "29/29 [============================>.] - ETA: 0s - loss: 0.2872 - accuracy: 0.8919 - categorical_crossentropy: 0.2875 - categorical_accuracy: 0.8919\n",
      "Epoch 00017: val_categorical_accuracy did not improve from 0.90460\n",
      "30/29 [==============================] - 11s 381ms/step - loss: 0.2871 - accuracy: 0.8921 - categorical_crossentropy: 0.2874 - categorical_accuracy: 0.8921 - val_loss: 0.2731 - val_accuracy: 0.8966 - val_categorical_crossentropy: 0.2731 - val_categorical_accuracy: 0.8966\n",
      "Epoch 18/50\n",
      "29/29 [============================>.] - ETA: 0s - loss: 0.2838 - accuracy: 0.8942 - categorical_crossentropy: 0.2831 - categorical_accuracy: 0.8942\n",
      "Epoch 00018: val_categorical_accuracy did not improve from 0.90460\n",
      "30/29 [==============================] - 12s 388ms/step - loss: 0.2829 - accuracy: 0.8945 - categorical_crossentropy: 0.2822 - categorical_accuracy: 0.8945 - val_loss: 0.2837 - val_accuracy: 0.8956 - val_categorical_crossentropy: 0.2836 - val_categorical_accuracy: 0.8956\n",
      "Epoch 19/50\n",
      "29/29 [============================>.] - ETA: 0s - loss: 0.2782 - accuracy: 0.8965 - categorical_crossentropy: 0.2768 - categorical_accuracy: 0.8965\n",
      "Epoch 00019: val_categorical_accuracy did not improve from 0.90460\n",
      "\n",
      "Epoch 00019: ReduceLROnPlateau reducing learning rate to 0.0005000000237487257.\n",
      "30/29 [==============================] - 12s 387ms/step - loss: 0.2778 - accuracy: 0.8964 - categorical_crossentropy: 0.2765 - categorical_accuracy: 0.8964 - val_loss: 0.3113 - val_accuracy: 0.8794 - val_categorical_crossentropy: 0.3115 - val_categorical_accuracy: 0.8794\n",
      "Epoch 20/50\n",
      "29/29 [============================>.] - ETA: 0s - loss: 0.2726 - accuracy: 0.8964 - categorical_crossentropy: 0.2720 - categorical_accuracy: 0.8964\n",
      "Epoch 00020: val_categorical_accuracy improved from 0.90460 to 0.90640, saving model to /home/cenk/Research/pre-trained-models/cv/fashion_mnist/simple_cnn_rmsprop-20-0.91.hdf5\n",
      "30/29 [==============================] - 12s 398ms/step - loss: 0.2714 - accuracy: 0.8970 - categorical_crossentropy: 0.2708 - categorical_accuracy: 0.8970 - val_loss: 0.2512 - val_accuracy: 0.9064 - val_categorical_crossentropy: 0.2513 - val_categorical_accuracy: 0.9064\n",
      "Epoch 21/50\n",
      "29/29 [============================>.] - ETA: 0s - loss: 0.2692 - accuracy: 0.8986 - categorical_crossentropy: 0.2688 - categorical_accuracy: 0.8986\n",
      "Epoch 00021: val_categorical_accuracy did not improve from 0.90640\n",
      "30/29 [==============================] - 12s 394ms/step - loss: 0.2692 - accuracy: 0.8988 - categorical_crossentropy: 0.2688 - categorical_accuracy: 0.8988 - val_loss: 0.2651 - val_accuracy: 0.9027 - val_categorical_crossentropy: 0.2651 - val_categorical_accuracy: 0.9027\n",
      "Epoch 22/50\n",
      "29/29 [============================>.] - ETA: 0s - loss: 0.2629 - accuracy: 0.9022 - categorical_crossentropy: 0.2635 - categorical_accuracy: 0.9022\n",
      "Epoch 00022: val_categorical_accuracy improved from 0.90640 to 0.90690, saving model to /home/cenk/Research/pre-trained-models/cv/fashion_mnist/simple_cnn_rmsprop-22-0.91.hdf5\n",
      "30/29 [==============================] - 12s 391ms/step - loss: 0.2622 - accuracy: 0.9025 - categorical_crossentropy: 0.2627 - categorical_accuracy: 0.9025 - val_loss: 0.2561 - val_accuracy: 0.9069 - val_categorical_crossentropy: 0.2560 - val_categorical_accuracy: 0.9069\n",
      "Epoch 23/50\n",
      "29/29 [============================>.] - ETA: 0s - loss: 0.2599 - accuracy: 0.9013 - categorical_crossentropy: 0.2602 - categorical_accuracy: 0.9013\n",
      "Epoch 00023: val_categorical_accuracy did not improve from 0.90690\n",
      "\n",
      "Epoch 00023: ReduceLROnPlateau reducing learning rate to 0.0005000000237487257.\n",
      "30/29 [==============================] - 12s 387ms/step - loss: 0.2598 - accuracy: 0.9013 - categorical_crossentropy: 0.2601 - categorical_accuracy: 0.9013 - val_loss: 0.2628 - val_accuracy: 0.9033 - val_categorical_crossentropy: 0.2629 - val_categorical_accuracy: 0.9033\n",
      "Epoch 24/50\n",
      "29/29 [============================>.] - ETA: 0s - loss: 0.2556 - accuracy: 0.9053 - categorical_crossentropy: 0.2556 - categorical_accuracy: 0.9053\n",
      "Epoch 00024: val_categorical_accuracy did not improve from 0.90690\n",
      "30/29 [==============================] - 12s 394ms/step - loss: 0.2553 - accuracy: 0.9054 - categorical_crossentropy: 0.2555 - categorical_accuracy: 0.9054 - val_loss: 0.4175 - val_accuracy: 0.8410 - val_categorical_crossentropy: 0.4193 - val_categorical_accuracy: 0.8410\n",
      "Epoch 25/50\n",
      "29/29 [============================>.] - ETA: 0s - loss: 0.2533 - accuracy: 0.9058 - categorical_crossentropy: 0.2535 - categorical_accuracy: 0.9058\n",
      "Epoch 00025: val_categorical_accuracy improved from 0.90690 to 0.91110, saving model to /home/cenk/Research/pre-trained-models/cv/fashion_mnist/simple_cnn_rmsprop-25-0.91.hdf5\n",
      "30/29 [==============================] - 12s 384ms/step - loss: 0.2533 - accuracy: 0.9056 - categorical_crossentropy: 0.2535 - categorical_accuracy: 0.9056 - val_loss: 0.2434 - val_accuracy: 0.9111 - val_categorical_crossentropy: 0.2434 - val_categorical_accuracy: 0.9111\n",
      "Epoch 26/50\n",
      "29/29 [============================>.] - ETA: 0s - loss: 0.2539 - accuracy: 0.9054 - categorical_crossentropy: 0.2529 - categorical_accuracy: 0.9054\n",
      "Epoch 00026: val_categorical_accuracy did not improve from 0.91110\n",
      "30/29 [==============================] - 11s 372ms/step - loss: 0.2534 - accuracy: 0.9056 - categorical_crossentropy: 0.2524 - categorical_accuracy: 0.9056 - val_loss: 0.2634 - val_accuracy: 0.9039 - val_categorical_crossentropy: 0.2637 - val_categorical_accuracy: 0.9039\n",
      "Epoch 27/50\n",
      "29/29 [============================>.] - ETA: 0s - loss: 0.2472 - accuracy: 0.9068 - categorical_crossentropy: 0.2475 - categorical_accuracy: 0.9068\n",
      "Epoch 00027: val_categorical_accuracy did not improve from 0.91110\n",
      "30/29 [==============================] - 11s 370ms/step - loss: 0.2471 - accuracy: 0.9069 - categorical_crossentropy: 0.2474 - categorical_accuracy: 0.9069 - val_loss: 0.2499 - val_accuracy: 0.9069 - val_categorical_crossentropy: 0.2499 - val_categorical_accuracy: 0.9069\n",
      "Epoch 28/50\n",
      "29/29 [============================>.] - ETA: 0s - loss: 0.2457 - accuracy: 0.9088 - categorical_crossentropy: 0.2453 - categorical_accuracy: 0.9088\n",
      "Epoch 00028: val_categorical_accuracy improved from 0.91110 to 0.92070, saving model to /home/cenk/Research/pre-trained-models/cv/fashion_mnist/simple_cnn_rmsprop-28-0.92.hdf5\n",
      "30/29 [==============================] - 11s 371ms/step - loss: 0.2461 - accuracy: 0.9085 - categorical_crossentropy: 0.2457 - categorical_accuracy: 0.9085 - val_loss: 0.2174 - val_accuracy: 0.9207 - val_categorical_crossentropy: 0.2175 - val_categorical_accuracy: 0.9207\n",
      "Epoch 29/50\n",
      "29/29 [============================>.] - ETA: 0s - loss: 0.2414 - accuracy: 0.9098 - categorical_crossentropy: 0.2412 - categorical_accuracy: 0.9098\n",
      "Epoch 00029: val_categorical_accuracy did not improve from 0.92070\n",
      "30/29 [==============================] - 12s 391ms/step - loss: 0.2412 - accuracy: 0.9099 - categorical_crossentropy: 0.2409 - categorical_accuracy: 0.9099 - val_loss: 0.2224 - val_accuracy: 0.9196 - val_categorical_crossentropy: 0.2225 - val_categorical_accuracy: 0.9196\n",
      "Epoch 30/50\n",
      "29/29 [============================>.] - ETA: 0s - loss: 0.2406 - accuracy: 0.9109 - categorical_crossentropy: 0.2411 - categorical_accuracy: 0.9109\n",
      "Epoch 00030: val_categorical_accuracy did not improve from 0.92070\n",
      "30/29 [==============================] - 11s 381ms/step - loss: 0.2399 - accuracy: 0.9112 - categorical_crossentropy: 0.2404 - categorical_accuracy: 0.9112 - val_loss: 0.2385 - val_accuracy: 0.9117 - val_categorical_crossentropy: 0.2388 - val_categorical_accuracy: 0.9117\n"
     ]
    },
    {
     "name": "stdout",
     "output_type": "stream",
     "text": [
      "Epoch 31/50\n",
      "29/29 [============================>.] - ETA: 0s - loss: 0.2357 - accuracy: 0.9107 - categorical_crossentropy: 0.2364 - categorical_accuracy: 0.9107\n",
      "Epoch 00031: val_categorical_accuracy did not improve from 0.92070\n",
      "\n",
      "Epoch 00031: ReduceLROnPlateau reducing learning rate to 0.0005000000237487257.\n",
      "30/29 [==============================] - 11s 375ms/step - loss: 0.2364 - accuracy: 0.9106 - categorical_crossentropy: 0.2370 - categorical_accuracy: 0.9106 - val_loss: 0.2272 - val_accuracy: 0.9154 - val_categorical_crossentropy: 0.2270 - val_categorical_accuracy: 0.9154\n",
      "Epoch 32/50\n",
      "29/29 [============================>.] - ETA: 0s - loss: 0.2376 - accuracy: 0.9118 - categorical_crossentropy: 0.2368 - categorical_accuracy: 0.9118\n",
      "Epoch 00032: val_categorical_accuracy did not improve from 0.92070\n",
      "30/29 [==============================] - 11s 370ms/step - loss: 0.2366 - accuracy: 0.9121 - categorical_crossentropy: 0.2358 - categorical_accuracy: 0.9121 - val_loss: 0.2572 - val_accuracy: 0.9002 - val_categorical_crossentropy: 0.2572 - val_categorical_accuracy: 0.9002\n",
      "Epoch 33/50\n",
      "29/29 [============================>.] - ETA: 0s - loss: 0.2297 - accuracy: 0.9141 - categorical_crossentropy: 0.2301 - categorical_accuracy: 0.9141\n",
      "Epoch 00033: val_categorical_accuracy did not improve from 0.92070\n",
      "30/29 [==============================] - 11s 377ms/step - loss: 0.2300 - accuracy: 0.9139 - categorical_crossentropy: 0.2303 - categorical_accuracy: 0.9139 - val_loss: 0.2681 - val_accuracy: 0.9003 - val_categorical_crossentropy: 0.2684 - val_categorical_accuracy: 0.9003\n",
      "\n",
      "Epoch 00051: final model weights set to stochastic weight average\n",
      "Epoch 1/50\n",
      "234/234 [============================>.] - ETA: 0s - loss: 0.6760 - accuracy: 0.7477 - categorical_crossentropy: 0.6757 - categorical_accuracy: 0.7477\n",
      "Epoch 00001: val_categorical_accuracy improved from -inf to 0.80190, saving model to /home/cenk/Research/pre-trained-models/cv/fashion_mnist/shuffle_netv2_rmsprop-01-0.80.hdf5\n",
      "235/234 [==============================] - 19s 79ms/step - loss: 0.6754 - accuracy: 0.7478 - categorical_crossentropy: 0.6751 - categorical_accuracy: 0.7478 - val_loss: 0.5658 - val_accuracy: 0.8019 - val_categorical_crossentropy: 0.5658 - val_categorical_accuracy: 0.8019\n",
      "Epoch 2/50\n",
      "234/234 [============================>.] - ETA: 0s - loss: 0.4382 - accuracy: 0.8332 - categorical_crossentropy: 0.4385 - categorical_accuracy: 0.8332\n",
      "Epoch 00002: val_categorical_accuracy improved from 0.80190 to 0.86540, saving model to /home/cenk/Research/pre-trained-models/cv/fashion_mnist/shuffle_netv2_rmsprop-02-0.87.hdf5\n",
      "235/234 [==============================] - 18s 77ms/step - loss: 0.4382 - accuracy: 0.8332 - categorical_crossentropy: 0.4385 - categorical_accuracy: 0.8332 - val_loss: 0.3645 - val_accuracy: 0.8654 - val_categorical_crossentropy: 0.3642 - val_categorical_accuracy: 0.8654\n",
      "Epoch 3/50\n",
      "234/234 [============================>.] - ETA: 0s - loss: 0.3782 - accuracy: 0.8577 - categorical_crossentropy: 0.3783 - categorical_accuracy: 0.8577\n",
      "Epoch 00003: val_categorical_accuracy improved from 0.86540 to 0.89520, saving model to /home/cenk/Research/pre-trained-models/cv/fashion_mnist/shuffle_netv2_rmsprop-03-0.90.hdf5\n",
      "235/234 [==============================] - 18s 78ms/step - loss: 0.3780 - accuracy: 0.8577 - categorical_crossentropy: 0.3781 - categorical_accuracy: 0.8577 - val_loss: 0.2921 - val_accuracy: 0.8952 - val_categorical_crossentropy: 0.2906 - val_categorical_accuracy: 0.8952\n",
      "Epoch 4/50\n",
      "234/234 [============================>.] - ETA: 0s - loss: 0.3458 - accuracy: 0.8688 - categorical_crossentropy: 0.3459 - categorical_accuracy: 0.8688\n",
      "Epoch 00004: val_categorical_accuracy did not improve from 0.89520\n",
      "235/234 [==============================] - 18s 78ms/step - loss: 0.3465 - accuracy: 0.8686 - categorical_crossentropy: 0.3466 - categorical_accuracy: 0.8686 - val_loss: 0.3142 - val_accuracy: 0.8888 - val_categorical_crossentropy: 0.3085 - val_categorical_accuracy: 0.8888\n",
      "\n",
      "Epoch 00005: starting stochastic weight averaging\n",
      "Epoch 5/50\n",
      "234/234 [============================>.] - ETA: 0s - loss: 0.3294 - accuracy: 0.8757 - categorical_crossentropy: 0.3294 - categorical_accuracy: 0.8757\n",
      "Epoch 00005: val_categorical_accuracy did not improve from 0.89520\n",
      "235/234 [==============================] - 18s 77ms/step - loss: 0.3293 - accuracy: 0.8759 - categorical_crossentropy: 0.3293 - categorical_accuracy: 0.8759 - val_loss: 0.3498 - val_accuracy: 0.8762 - val_categorical_crossentropy: 0.3514 - val_categorical_accuracy: 0.8762\n",
      "Epoch 6/50\n",
      "234/234 [============================>.] - ETA: 0s - loss: 0.3114 - accuracy: 0.8823 - categorical_crossentropy: 0.3112 - categorical_accuracy: 0.8823\n",
      "Epoch 00006: val_categorical_accuracy improved from 0.89520 to 0.89850, saving model to /home/cenk/Research/pre-trained-models/cv/fashion_mnist/shuffle_netv2_rmsprop-06-0.90.hdf5\n",
      "235/234 [==============================] - 18s 77ms/step - loss: 0.3117 - accuracy: 0.8822 - categorical_crossentropy: 0.3115 - categorical_accuracy: 0.8822 - val_loss: 0.2723 - val_accuracy: 0.8985 - val_categorical_crossentropy: 0.2746 - val_categorical_accuracy: 0.8985\n",
      "Epoch 7/50\n",
      "234/234 [============================>.] - ETA: 0s - loss: 0.2975 - accuracy: 0.8882 - categorical_crossentropy: 0.2976 - categorical_accuracy: 0.8882\n",
      "Epoch 00007: val_categorical_accuracy improved from 0.89850 to 0.90500, saving model to /home/cenk/Research/pre-trained-models/cv/fashion_mnist/shuffle_netv2_rmsprop-07-0.90.hdf5\n",
      "235/234 [==============================] - 18s 78ms/step - loss: 0.2974 - accuracy: 0.8882 - categorical_crossentropy: 0.2975 - categorical_accuracy: 0.8882 - val_loss: 0.2553 - val_accuracy: 0.9050 - val_categorical_crossentropy: 0.2536 - val_categorical_accuracy: 0.9050\n",
      "Epoch 8/50\n",
      "234/234 [============================>.] - ETA: 0s - loss: 0.2918 - accuracy: 0.8907 - categorical_crossentropy: 0.2921 - categorical_accuracy: 0.8907\n",
      "Epoch 00008: val_categorical_accuracy improved from 0.90500 to 0.91140, saving model to /home/cenk/Research/pre-trained-models/cv/fashion_mnist/shuffle_netv2_rmsprop-08-0.91.hdf5\n",
      "235/234 [==============================] - 18s 78ms/step - loss: 0.2917 - accuracy: 0.8907 - categorical_crossentropy: 0.2920 - categorical_accuracy: 0.8907 - val_loss: 0.2461 - val_accuracy: 0.9114 - val_categorical_crossentropy: 0.2449 - val_categorical_accuracy: 0.9114\n",
      "Epoch 9/50\n",
      "234/234 [============================>.] - ETA: 0s - loss: 0.2823 - accuracy: 0.8952 - categorical_crossentropy: 0.2822 - categorical_accuracy: 0.8952\n",
      "Epoch 00009: val_categorical_accuracy improved from 0.91140 to 0.91160, saving model to /home/cenk/Research/pre-trained-models/cv/fashion_mnist/shuffle_netv2_rmsprop-09-0.91.hdf5\n",
      "235/234 [==============================] - 18s 77ms/step - loss: 0.2823 - accuracy: 0.8952 - categorical_crossentropy: 0.2822 - categorical_accuracy: 0.8952 - val_loss: 0.2367 - val_accuracy: 0.9116 - val_categorical_crossentropy: 0.2352 - val_categorical_accuracy: 0.9116\n",
      "Epoch 10/50\n",
      "234/234 [============================>.] - ETA: 0s - loss: 0.2734 - accuracy: 0.8977 - categorical_crossentropy: 0.2735 - categorical_accuracy: 0.8977\n",
      "Epoch 00010: val_categorical_accuracy improved from 0.91160 to 0.91850, saving model to /home/cenk/Research/pre-trained-models/cv/fashion_mnist/shuffle_netv2_rmsprop-10-0.92.hdf5\n",
      "235/234 [==============================] - 18s 78ms/step - loss: 0.2735 - accuracy: 0.8977 - categorical_crossentropy: 0.2737 - categorical_accuracy: 0.8977 - val_loss: 0.2323 - val_accuracy: 0.9185 - val_categorical_crossentropy: 0.2313 - val_categorical_accuracy: 0.9185\n",
      "Epoch 11/50\n",
      "234/234 [============================>.] - ETA: 0s - loss: 0.2711 - accuracy: 0.8977 - categorical_crossentropy: 0.2709 - categorical_accuracy: 0.8977\n",
      "Epoch 00011: val_categorical_accuracy did not improve from 0.91850\n",
      "235/234 [==============================] - 18s 77ms/step - loss: 0.2711 - accuracy: 0.8977 - categorical_crossentropy: 0.2710 - categorical_accuracy: 0.8977 - val_loss: 0.2566 - val_accuracy: 0.9058 - val_categorical_crossentropy: 0.2562 - val_categorical_accuracy: 0.9058\n",
      "Epoch 12/50\n"
     ]
    },
    {
     "name": "stdout",
     "output_type": "stream",
     "text": [
      "234/234 [============================>.] - ETA: 0s - loss: 0.2629 - accuracy: 0.9028 - categorical_crossentropy: 0.2627 - categorical_accuracy: 0.9028\n",
      "Epoch 00012: val_categorical_accuracy did not improve from 0.91850\n",
      "235/234 [==============================] - 18s 77ms/step - loss: 0.2628 - accuracy: 0.9028 - categorical_crossentropy: 0.2626 - categorical_accuracy: 0.9028 - val_loss: 0.2282 - val_accuracy: 0.9144 - val_categorical_crossentropy: 0.2273 - val_categorical_accuracy: 0.9144\n",
      "Epoch 13/50\n",
      "234/234 [============================>.] - ETA: 0s - loss: 0.2580 - accuracy: 0.9038 - categorical_crossentropy: 0.2578 - categorical_accuracy: 0.9038\n",
      "Epoch 00013: val_categorical_accuracy did not improve from 0.91850\n",
      "235/234 [==============================] - 18s 77ms/step - loss: 0.2578 - accuracy: 0.9039 - categorical_crossentropy: 0.2576 - categorical_accuracy: 0.9039 - val_loss: 0.2265 - val_accuracy: 0.9135 - val_categorical_crossentropy: 0.2270 - val_categorical_accuracy: 0.9135\n",
      "Epoch 14/50\n",
      "234/234 [============================>.] - ETA: 0s - loss: 0.2537 - accuracy: 0.9058 - categorical_crossentropy: 0.2537 - categorical_accuracy: 0.9058\n",
      "Epoch 00014: val_categorical_accuracy improved from 0.91850 to 0.92080, saving model to /home/cenk/Research/pre-trained-models/cv/fashion_mnist/shuffle_netv2_rmsprop-14-0.92.hdf5\n",
      "235/234 [==============================] - 18s 77ms/step - loss: 0.2536 - accuracy: 0.9058 - categorical_crossentropy: 0.2536 - categorical_accuracy: 0.9058 - val_loss: 0.2176 - val_accuracy: 0.9208 - val_categorical_crossentropy: 0.2195 - val_categorical_accuracy: 0.9208\n",
      "Epoch 15/50\n",
      "234/234 [============================>.] - ETA: 0s - loss: 0.2484 - accuracy: 0.9068 - categorical_crossentropy: 0.2485 - categorical_accuracy: 0.9068\n",
      "Epoch 00015: val_categorical_accuracy did not improve from 0.92080\n",
      "235/234 [==============================] - 18s 78ms/step - loss: 0.2483 - accuracy: 0.9069 - categorical_crossentropy: 0.2483 - categorical_accuracy: 0.9069 - val_loss: 0.2498 - val_accuracy: 0.9096 - val_categorical_crossentropy: 0.2509 - val_categorical_accuracy: 0.9096\n",
      "Epoch 16/50\n",
      "234/234 [============================>.] - ETA: 0s - loss: 0.2460 - accuracy: 0.9085 - categorical_crossentropy: 0.2461 - categorical_accuracy: 0.9085\n",
      "Epoch 00016: val_categorical_accuracy did not improve from 0.92080\n",
      "235/234 [==============================] - 18s 78ms/step - loss: 0.2458 - accuracy: 0.9086 - categorical_crossentropy: 0.2459 - categorical_accuracy: 0.9086 - val_loss: 0.2197 - val_accuracy: 0.9167 - val_categorical_crossentropy: 0.2232 - val_categorical_accuracy: 0.9167\n",
      "Epoch 17/50\n",
      "234/234 [============================>.] - ETA: 0s - loss: 0.2414 - accuracy: 0.9090 - categorical_crossentropy: 0.2413 - categorical_accuracy: 0.9090\n",
      "Epoch 00017: val_categorical_accuracy did not improve from 0.92080\n",
      "235/234 [==============================] - 18s 78ms/step - loss: 0.2411 - accuracy: 0.9091 - categorical_crossentropy: 0.2411 - categorical_accuracy: 0.9091 - val_loss: 0.2111 - val_accuracy: 0.9208 - val_categorical_crossentropy: 0.2124 - val_categorical_accuracy: 0.9208\n",
      "Epoch 18/50\n",
      "234/234 [============================>.] - ETA: 0s - loss: 0.2393 - accuracy: 0.9100 - categorical_crossentropy: 0.2393 - categorical_accuracy: 0.9100\n",
      "Epoch 00018: val_categorical_accuracy did not improve from 0.92080\n",
      "235/234 [==============================] - 18s 78ms/step - loss: 0.2396 - accuracy: 0.9098 - categorical_crossentropy: 0.2397 - categorical_accuracy: 0.9098 - val_loss: 0.2351 - val_accuracy: 0.9119 - val_categorical_crossentropy: 0.2368 - val_categorical_accuracy: 0.9119\n",
      "Epoch 19/50\n",
      "234/234 [============================>.] - ETA: 0s - loss: 0.2358 - accuracy: 0.9127 - categorical_crossentropy: 0.2357 - categorical_accuracy: 0.9127\n",
      "Epoch 00019: val_categorical_accuracy improved from 0.92080 to 0.92500, saving model to /home/cenk/Research/pre-trained-models/cv/fashion_mnist/shuffle_netv2_rmsprop-19-0.93.hdf5\n",
      "235/234 [==============================] - 18s 77ms/step - loss: 0.2356 - accuracy: 0.9128 - categorical_crossentropy: 0.2355 - categorical_accuracy: 0.9128 - val_loss: 0.2051 - val_accuracy: 0.9250 - val_categorical_crossentropy: 0.2053 - val_categorical_accuracy: 0.9250\n",
      "Epoch 20/50\n",
      "234/234 [============================>.] - ETA: 0s - loss: 0.2298 - accuracy: 0.9145 - categorical_crossentropy: 0.2298 - categorical_accuracy: 0.9145\n",
      "Epoch 00020: val_categorical_accuracy did not improve from 0.92500\n",
      "235/234 [==============================] - 18s 78ms/step - loss: 0.2300 - accuracy: 0.9144 - categorical_crossentropy: 0.2299 - categorical_accuracy: 0.9144 - val_loss: 0.2196 - val_accuracy: 0.9186 - val_categorical_crossentropy: 0.2200 - val_categorical_accuracy: 0.9186\n",
      "Epoch 21/50\n",
      "234/234 [============================>.] - ETA: 0s - loss: 0.2301 - accuracy: 0.9144 - categorical_crossentropy: 0.2302 - categorical_accuracy: 0.9144\n",
      "Epoch 00021: val_categorical_accuracy did not improve from 0.92500\n",
      "235/234 [==============================] - 18s 78ms/step - loss: 0.2301 - accuracy: 0.9144 - categorical_crossentropy: 0.2302 - categorical_accuracy: 0.9144 - val_loss: 0.2148 - val_accuracy: 0.9184 - val_categorical_crossentropy: 0.2181 - val_categorical_accuracy: 0.9184\n",
      "Epoch 22/50\n",
      "234/234 [============================>.] - ETA: 0s - loss: 0.2291 - accuracy: 0.9144 - categorical_crossentropy: 0.2293 - categorical_accuracy: 0.9144\n",
      "Epoch 00022: val_categorical_accuracy did not improve from 0.92500\n",
      "\n",
      "Epoch 00022: ReduceLROnPlateau reducing learning rate to 0.0005000000237487257.\n",
      "235/234 [==============================] - 18s 78ms/step - loss: 0.2291 - accuracy: 0.9145 - categorical_crossentropy: 0.2293 - categorical_accuracy: 0.9145 - val_loss: 0.2125 - val_accuracy: 0.9200 - val_categorical_crossentropy: 0.2137 - val_categorical_accuracy: 0.9200\n",
      "Epoch 23/50\n",
      "234/234 [============================>.] - ETA: 0s - loss: 0.2248 - accuracy: 0.9161 - categorical_crossentropy: 0.2242 - categorical_accuracy: 0.9161\n",
      "Epoch 00023: val_categorical_accuracy did not improve from 0.92500\n",
      "235/234 [==============================] - 18s 78ms/step - loss: 0.2248 - accuracy: 0.9161 - categorical_crossentropy: 0.2243 - categorical_accuracy: 0.9161 - val_loss: 0.2119 - val_accuracy: 0.9218 - val_categorical_crossentropy: 0.2125 - val_categorical_accuracy: 0.9218\n",
      "Epoch 24/50\n",
      "234/234 [============================>.] - ETA: 0s - loss: 0.2244 - accuracy: 0.9172 - categorical_crossentropy: 0.2240 - categorical_accuracy: 0.9172\n",
      "Epoch 00024: val_categorical_accuracy did not improve from 0.92500\n",
      "235/234 [==============================] - 18s 77ms/step - loss: 0.2241 - accuracy: 0.9173 - categorical_crossentropy: 0.2237 - categorical_accuracy: 0.9173 - val_loss: 0.2169 - val_accuracy: 0.9203 - val_categorical_crossentropy: 0.2193 - val_categorical_accuracy: 0.9203\n",
      "\n",
      "Epoch 00051: final model weights set to stochastic weight average\n",
      "Epoch 1/50\n",
      "29/29 [============================>.] - ETA: 0s - loss: 1.0031 - accuracy: 0.6375 - categorical_crossentropy: 1.0100 - categorical_accuracy: 0.6375\n",
      "Epoch 00001: val_categorical_accuracy improved from -inf to 0.69680, saving model to /home/cenk/Research/pre-trained-models/cv/fashion_mnist/simple_cnn_adam-01-0.70.hdf5\n",
      "30/29 [==============================] - 12s 408ms/step - loss: 0.9919 - accuracy: 0.6420 - categorical_crossentropy: 0.9981 - categorical_accuracy: 0.6420 - val_loss: 1.4501 - val_accuracy: 0.6968 - val_categorical_crossentropy: 1.4502 - val_categorical_accuracy: 0.6968\n",
      "Epoch 2/50\n",
      "29/29 [============================>.] - ETA: 0s - loss: 0.5929 - accuracy: 0.7783 - categorical_crossentropy: 0.5909 - categorical_accuracy: 0.7783\n",
      "Epoch 00002: val_categorical_accuracy improved from 0.69680 to 0.75750, saving model to /home/cenk/Research/pre-trained-models/cv/fashion_mnist/simple_cnn_adam-02-0.76.hdf5\n",
      "30/29 [==============================] - 11s 363ms/step - loss: 0.5912 - accuracy: 0.7789 - categorical_crossentropy: 0.5893 - categorical_accuracy: 0.7789 - val_loss: 1.4673 - val_accuracy: 0.7575 - val_categorical_crossentropy: 1.4674 - val_categorical_accuracy: 0.7575\n",
      "Epoch 3/50\n"
     ]
    },
    {
     "name": "stdout",
     "output_type": "stream",
     "text": [
      "29/29 [============================>.] - ETA: 0s - loss: 0.4986 - accuracy: 0.8124 - categorical_crossentropy: 0.4980 - categorical_accuracy: 0.8124\n",
      "Epoch 00003: val_categorical_accuracy improved from 0.75750 to 0.78130, saving model to /home/cenk/Research/pre-trained-models/cv/fashion_mnist/simple_cnn_adam-03-0.78.hdf5\n",
      "30/29 [==============================] - 11s 375ms/step - loss: 0.4975 - accuracy: 0.8127 - categorical_crossentropy: 0.4969 - categorical_accuracy: 0.8127 - val_loss: 1.3548 - val_accuracy: 0.7813 - val_categorical_crossentropy: 1.3549 - val_categorical_accuracy: 0.7813\n",
      "Epoch 4/50\n",
      "29/29 [============================>.] - ETA: 0s - loss: 0.4492 - accuracy: 0.8320 - categorical_crossentropy: 0.4494 - categorical_accuracy: 0.8320\n",
      "Epoch 00004: val_categorical_accuracy did not improve from 0.78130\n",
      "30/29 [==============================] - 11s 365ms/step - loss: 0.4483 - accuracy: 0.8324 - categorical_crossentropy: 0.4485 - categorical_accuracy: 0.8324 - val_loss: 1.2838 - val_accuracy: 0.7811 - val_categorical_crossentropy: 1.2840 - val_categorical_accuracy: 0.7811\n",
      "\n",
      "Epoch 00005: starting stochastic weight averaging\n",
      "Epoch 5/50\n",
      "29/29 [============================>.] - ETA: 0s - loss: 0.4106 - accuracy: 0.8462 - categorical_crossentropy: 0.4112 - categorical_accuracy: 0.8462\n",
      "Epoch 00005: val_categorical_accuracy improved from 0.78130 to 0.82800, saving model to /home/cenk/Research/pre-trained-models/cv/fashion_mnist/simple_cnn_adam-05-0.83.hdf5\n",
      "30/29 [==============================] - 11s 371ms/step - loss: 0.4102 - accuracy: 0.8460 - categorical_crossentropy: 0.4107 - categorical_accuracy: 0.8460 - val_loss: 1.1228 - val_accuracy: 0.8280 - val_categorical_crossentropy: 1.1230 - val_categorical_accuracy: 0.8280\n",
      "Epoch 6/50\n",
      "29/29 [============================>.] - ETA: 0s - loss: 0.3856 - accuracy: 0.8555 - categorical_crossentropy: 0.3842 - categorical_accuracy: 0.8555\n",
      "Epoch 00006: val_categorical_accuracy improved from 0.82800 to 0.83530, saving model to /home/cenk/Research/pre-trained-models/cv/fashion_mnist/simple_cnn_adam-06-0.84.hdf5\n",
      "30/29 [==============================] - 11s 371ms/step - loss: 0.3848 - accuracy: 0.8560 - categorical_crossentropy: 0.3835 - categorical_accuracy: 0.8560 - val_loss: 1.0890 - val_accuracy: 0.8353 - val_categorical_crossentropy: 1.0890 - val_categorical_accuracy: 0.8353\n",
      "Epoch 7/50\n",
      "29/29 [============================>.] - ETA: 0s - loss: 0.3638 - accuracy: 0.8636 - categorical_crossentropy: 0.3644 - categorical_accuracy: 0.8636\n",
      "Epoch 00007: val_categorical_accuracy did not improve from 0.83530\n",
      "30/29 [==============================] - 11s 364ms/step - loss: 0.3636 - accuracy: 0.8636 - categorical_crossentropy: 0.3641 - categorical_accuracy: 0.8636 - val_loss: 0.8325 - val_accuracy: 0.8334 - val_categorical_crossentropy: 0.8326 - val_categorical_accuracy: 0.8334\n",
      "Epoch 8/50\n",
      "29/29 [============================>.] - ETA: 0s - loss: 0.3436 - accuracy: 0.8713 - categorical_crossentropy: 0.3437 - categorical_accuracy: 0.8713\n",
      "Epoch 00008: val_categorical_accuracy did not improve from 0.83530\n",
      "30/29 [==============================] - 11s 361ms/step - loss: 0.3441 - accuracy: 0.8713 - categorical_crossentropy: 0.3441 - categorical_accuracy: 0.8713 - val_loss: 0.7105 - val_accuracy: 0.8088 - val_categorical_crossentropy: 0.7107 - val_categorical_accuracy: 0.8088\n",
      "Epoch 9/50\n",
      "29/29 [============================>.] - ETA: 0s - loss: 0.3321 - accuracy: 0.8748 - categorical_crossentropy: 0.3328 - categorical_accuracy: 0.8748\n",
      "Epoch 00009: val_categorical_accuracy improved from 0.83530 to 0.86530, saving model to /home/cenk/Research/pre-trained-models/cv/fashion_mnist/simple_cnn_adam-09-0.87.hdf5\n",
      "30/29 [==============================] - 11s 367ms/step - loss: 0.3326 - accuracy: 0.8747 - categorical_crossentropy: 0.3332 - categorical_accuracy: 0.8747 - val_loss: 0.6169 - val_accuracy: 0.8653 - val_categorical_crossentropy: 0.6169 - val_categorical_accuracy: 0.8653\n",
      "Epoch 10/50\n",
      "29/29 [============================>.] - ETA: 0s - loss: 0.3192 - accuracy: 0.8801 - categorical_crossentropy: 0.3187 - categorical_accuracy: 0.8801\n",
      "Epoch 00010: val_categorical_accuracy improved from 0.86530 to 0.88330, saving model to /home/cenk/Research/pre-trained-models/cv/fashion_mnist/simple_cnn_adam-10-0.88.hdf5\n",
      "30/29 [==============================] - 11s 376ms/step - loss: 0.3192 - accuracy: 0.8799 - categorical_crossentropy: 0.3188 - categorical_accuracy: 0.8799 - val_loss: 0.5337 - val_accuracy: 0.8833 - val_categorical_crossentropy: 0.5337 - val_categorical_accuracy: 0.8833\n",
      "Epoch 11/50\n",
      "29/29 [============================>.] - ETA: 0s - loss: 0.3100 - accuracy: 0.8829 - categorical_crossentropy: 0.3106 - categorical_accuracy: 0.8829\n",
      "Epoch 00011: val_categorical_accuracy improved from 0.88330 to 0.88980, saving model to /home/cenk/Research/pre-trained-models/cv/fashion_mnist/simple_cnn_adam-11-0.89.hdf5\n",
      "30/29 [==============================] - 11s 366ms/step - loss: 0.3102 - accuracy: 0.8829 - categorical_crossentropy: 0.3108 - categorical_accuracy: 0.8829 - val_loss: 0.4487 - val_accuracy: 0.8898 - val_categorical_crossentropy: 0.4487 - val_categorical_accuracy: 0.8898\n",
      "Epoch 12/50\n",
      "29/29 [============================>.] - ETA: 0s - loss: 0.3053 - accuracy: 0.8859 - categorical_crossentropy: 0.3052 - categorical_accuracy: 0.8859\n",
      "Epoch 00012: val_categorical_accuracy improved from 0.88980 to 0.89070, saving model to /home/cenk/Research/pre-trained-models/cv/fashion_mnist/simple_cnn_adam-12-0.89.hdf5\n",
      "30/29 [==============================] - 11s 379ms/step - loss: 0.3055 - accuracy: 0.8858 - categorical_crossentropy: 0.3055 - categorical_accuracy: 0.8858 - val_loss: 0.3753 - val_accuracy: 0.8907 - val_categorical_crossentropy: 0.3753 - val_categorical_accuracy: 0.8907\n",
      "Epoch 13/50\n",
      "29/29 [============================>.] - ETA: 0s - loss: 0.2997 - accuracy: 0.8871 - categorical_crossentropy: 0.3001 - categorical_accuracy: 0.8871\n",
      "Epoch 00013: val_categorical_accuracy improved from 0.89070 to 0.89530, saving model to /home/cenk/Research/pre-trained-models/cv/fashion_mnist/simple_cnn_adam-13-0.90.hdf5\n",
      "30/29 [==============================] - 11s 372ms/step - loss: 0.2996 - accuracy: 0.8871 - categorical_crossentropy: 0.2999 - categorical_accuracy: 0.8871 - val_loss: 0.3317 - val_accuracy: 0.8953 - val_categorical_crossentropy: 0.3317 - val_categorical_accuracy: 0.8953\n",
      "Epoch 14/50\n",
      "29/29 [============================>.] - ETA: 0s - loss: 0.2873 - accuracy: 0.8924 - categorical_crossentropy: 0.2876 - categorical_accuracy: 0.8924\n",
      "Epoch 00014: val_categorical_accuracy did not improve from 0.89530\n",
      "30/29 [==============================] - 11s 374ms/step - loss: 0.2879 - accuracy: 0.8922 - categorical_crossentropy: 0.2882 - categorical_accuracy: 0.8922 - val_loss: 0.3287 - val_accuracy: 0.8948 - val_categorical_crossentropy: 0.3288 - val_categorical_accuracy: 0.8948\n",
      "Epoch 15/50\n",
      "29/29 [============================>.] - ETA: 0s - loss: 0.2801 - accuracy: 0.8954 - categorical_crossentropy: 0.2804 - categorical_accuracy: 0.8954\n",
      "Epoch 00015: val_categorical_accuracy improved from 0.89530 to 0.89670, saving model to /home/cenk/Research/pre-trained-models/cv/fashion_mnist/simple_cnn_adam-15-0.90.hdf5\n",
      "30/29 [==============================] - 11s 371ms/step - loss: 0.2802 - accuracy: 0.8954 - categorical_crossentropy: 0.2805 - categorical_accuracy: 0.8954 - val_loss: 0.3052 - val_accuracy: 0.8967 - val_categorical_crossentropy: 0.3052 - val_categorical_accuracy: 0.8967\n",
      "Epoch 16/50\n",
      "29/29 [============================>.] - ETA: 0s - loss: 0.2785 - accuracy: 0.8970 - categorical_crossentropy: 0.2785 - categorical_accuracy: 0.8970\n",
      "Epoch 00016: val_categorical_accuracy improved from 0.89670 to 0.89800, saving model to /home/cenk/Research/pre-trained-models/cv/fashion_mnist/simple_cnn_adam-16-0.90.hdf5\n",
      "30/29 [==============================] - 11s 379ms/step - loss: 0.2798 - accuracy: 0.8969 - categorical_crossentropy: 0.2789 - categorical_accuracy: 0.8969 - val_loss: 0.2868 - val_accuracy: 0.8980 - val_categorical_crossentropy: 0.2882 - val_categorical_accuracy: 0.8980\n",
      "Epoch 17/50\n"
     ]
    },
    {
     "name": "stdout",
     "output_type": "stream",
     "text": [
      "29/29 [============================>.] - ETA: 0s - loss: 0.2771 - accuracy: 0.8947 - categorical_crossentropy: 0.2778 - categorical_accuracy: 0.8947\n",
      "Epoch 00017: val_categorical_accuracy improved from 0.89800 to 0.90690, saving model to /home/cenk/Research/pre-trained-models/cv/fashion_mnist/simple_cnn_adam-17-0.91.hdf5\n",
      "30/29 [==============================] - 11s 369ms/step - loss: 0.2772 - accuracy: 0.8947 - categorical_crossentropy: 0.2778 - categorical_accuracy: 0.8947 - val_loss: 0.2621 - val_accuracy: 0.9069 - val_categorical_crossentropy: 0.2622 - val_categorical_accuracy: 0.9069\n",
      "Epoch 18/50\n",
      "29/29 [============================>.] - ETA: 0s - loss: 0.2683 - accuracy: 0.8996 - categorical_crossentropy: 0.2683 - categorical_accuracy: 0.8996\n",
      "Epoch 00018: val_categorical_accuracy did not improve from 0.90690\n",
      "30/29 [==============================] - 11s 366ms/step - loss: 0.2681 - accuracy: 0.8998 - categorical_crossentropy: 0.2681 - categorical_accuracy: 0.8998 - val_loss: 0.2621 - val_accuracy: 0.9021 - val_categorical_crossentropy: 0.2620 - val_categorical_accuracy: 0.9021\n",
      "Epoch 19/50\n",
      "29/29 [============================>.] - ETA: 0s - loss: 0.2658 - accuracy: 0.9011 - categorical_crossentropy: 0.2656 - categorical_accuracy: 0.9011\n",
      "Epoch 00019: val_categorical_accuracy improved from 0.90690 to 0.91120, saving model to /home/cenk/Research/pre-trained-models/cv/fashion_mnist/simple_cnn_adam-19-0.91.hdf5\n",
      "30/29 [==============================] - 11s 362ms/step - loss: 0.2652 - accuracy: 0.9012 - categorical_crossentropy: 0.2650 - categorical_accuracy: 0.9012 - val_loss: 0.2482 - val_accuracy: 0.9112 - val_categorical_crossentropy: 0.2481 - val_categorical_accuracy: 0.9112\n",
      "Epoch 20/50\n",
      "29/29 [============================>.] - ETA: 0s - loss: 0.2570 - accuracy: 0.9052 - categorical_crossentropy: 0.2578 - categorical_accuracy: 0.9052\n",
      "Epoch 00020: val_categorical_accuracy did not improve from 0.91120\n",
      "30/29 [==============================] - 11s 373ms/step - loss: 0.2569 - accuracy: 0.9052 - categorical_crossentropy: 0.2576 - categorical_accuracy: 0.9052 - val_loss: 0.2912 - val_accuracy: 0.8875 - val_categorical_crossentropy: 0.2913 - val_categorical_accuracy: 0.8875\n",
      "Epoch 21/50\n",
      "29/29 [============================>.] - ETA: 0s - loss: 0.2636 - accuracy: 0.9017 - categorical_crossentropy: 0.2634 - categorical_accuracy: 0.9017\n",
      "Epoch 00021: val_categorical_accuracy improved from 0.91120 to 0.91390, saving model to /home/cenk/Research/pre-trained-models/cv/fashion_mnist/simple_cnn_adam-21-0.91.hdf5\n",
      "30/29 [==============================] - 12s 394ms/step - loss: 0.2634 - accuracy: 0.9019 - categorical_crossentropy: 0.2632 - categorical_accuracy: 0.9019 - val_loss: 0.2341 - val_accuracy: 0.9139 - val_categorical_crossentropy: 0.2343 - val_categorical_accuracy: 0.9139\n",
      "Epoch 22/50\n",
      "29/29 [============================>.] - ETA: 0s - loss: 0.2567 - accuracy: 0.9059 - categorical_crossentropy: 0.2561 - categorical_accuracy: 0.9059\n",
      "Epoch 00022: val_categorical_accuracy improved from 0.91390 to 0.91620, saving model to /home/cenk/Research/pre-trained-models/cv/fashion_mnist/simple_cnn_adam-22-0.92.hdf5\n",
      "30/29 [==============================] - 11s 376ms/step - loss: 0.2564 - accuracy: 0.9060 - categorical_crossentropy: 0.2559 - categorical_accuracy: 0.9060 - val_loss: 0.2367 - val_accuracy: 0.9162 - val_categorical_crossentropy: 0.2366 - val_categorical_accuracy: 0.9162\n",
      "Epoch 23/50\n",
      "29/29 [============================>.] - ETA: 0s - loss: 0.2520 - accuracy: 0.9062 - categorical_crossentropy: 0.2521 - categorical_accuracy: 0.9062\n",
      "Epoch 00023: val_categorical_accuracy did not improve from 0.91620\n",
      "30/29 [==============================] - 11s 369ms/step - loss: 0.2535 - accuracy: 0.9056 - categorical_crossentropy: 0.2536 - categorical_accuracy: 0.9056 - val_loss: 0.2308 - val_accuracy: 0.9144 - val_categorical_crossentropy: 0.2308 - val_categorical_accuracy: 0.9144\n",
      "Epoch 24/50\n",
      "29/29 [============================>.] - ETA: 0s - loss: 0.2485 - accuracy: 0.9080 - categorical_crossentropy: 0.2488 - categorical_accuracy: 0.9080\n",
      "Epoch 00024: val_categorical_accuracy improved from 0.91620 to 0.92200, saving model to /home/cenk/Research/pre-trained-models/cv/fashion_mnist/simple_cnn_adam-24-0.92.hdf5\n",
      "30/29 [==============================] - 11s 376ms/step - loss: 0.2492 - accuracy: 0.9079 - categorical_crossentropy: 0.2495 - categorical_accuracy: 0.9079 - val_loss: 0.2138 - val_accuracy: 0.9220 - val_categorical_crossentropy: 0.2137 - val_categorical_accuracy: 0.9220\n",
      "Epoch 25/50\n",
      "29/29 [============================>.] - ETA: 0s - loss: 0.2398 - accuracy: 0.9099 - categorical_crossentropy: 0.2399 - categorical_accuracy: 0.9099\n",
      "Epoch 00025: val_categorical_accuracy did not improve from 0.92200\n",
      "30/29 [==============================] - 11s 369ms/step - loss: 0.2389 - accuracy: 0.9102 - categorical_crossentropy: 0.2390 - categorical_accuracy: 0.9102 - val_loss: 0.2207 - val_accuracy: 0.9195 - val_categorical_crossentropy: 0.2208 - val_categorical_accuracy: 0.9195\n",
      "Epoch 26/50\n",
      "29/29 [============================>.] - ETA: 0s - loss: 0.2435 - accuracy: 0.9094 - categorical_crossentropy: 0.2429 - categorical_accuracy: 0.9094\n",
      "Epoch 00026: val_categorical_accuracy did not improve from 0.92200\n",
      "30/29 [==============================] - 11s 372ms/step - loss: 0.2435 - accuracy: 0.9096 - categorical_crossentropy: 0.2429 - categorical_accuracy: 0.9096 - val_loss: 0.2365 - val_accuracy: 0.9112 - val_categorical_crossentropy: 0.2367 - val_categorical_accuracy: 0.9112\n",
      "Epoch 27/50\n",
      "29/29 [============================>.] - ETA: 0s - loss: 0.2389 - accuracy: 0.9106 - categorical_crossentropy: 0.2398 - categorical_accuracy: 0.9106\n",
      "Epoch 00027: val_categorical_accuracy did not improve from 0.92200\n",
      "\n",
      "Epoch 00027: ReduceLROnPlateau reducing learning rate to 0.0005000000237487257.\n",
      "30/29 [==============================] - 11s 370ms/step - loss: 0.2386 - accuracy: 0.9108 - categorical_crossentropy: 0.2394 - categorical_accuracy: 0.9108 - val_loss: 0.2239 - val_accuracy: 0.9182 - val_categorical_crossentropy: 0.2240 - val_categorical_accuracy: 0.9182\n",
      "Epoch 28/50\n",
      "29/29 [============================>.] - ETA: 0s - loss: 0.2377 - accuracy: 0.9115 - categorical_crossentropy: 0.2386 - categorical_accuracy: 0.9115\n",
      "Epoch 00028: val_categorical_accuracy did not improve from 0.92200\n",
      "30/29 [==============================] - 11s 367ms/step - loss: 0.2378 - accuracy: 0.9115 - categorical_crossentropy: 0.2387 - categorical_accuracy: 0.9115 - val_loss: 0.2186 - val_accuracy: 0.9200 - val_categorical_crossentropy: 0.2186 - val_categorical_accuracy: 0.9200\n",
      "Epoch 29/50\n",
      "29/29 [============================>.] - ETA: 0s - loss: 0.2357 - accuracy: 0.9111 - categorical_crossentropy: 0.2353 - categorical_accuracy: 0.9111\n",
      "Epoch 00029: val_categorical_accuracy did not improve from 0.92200\n",
      "30/29 [==============================] - 11s 374ms/step - loss: 0.2349 - accuracy: 0.9111 - categorical_crossentropy: 0.2346 - categorical_accuracy: 0.9111 - val_loss: 0.2208 - val_accuracy: 0.9198 - val_categorical_crossentropy: 0.2208 - val_categorical_accuracy: 0.9198\n",
      "\n",
      "Epoch 00051: final model weights set to stochastic weight average\n",
      "Epoch 1/50\n",
      "234/234 [============================>.] - ETA: 0s - loss: 0.6552 - accuracy: 0.7524 - categorical_crossentropy: 0.6548 - categorical_accuracy: 0.7524\n",
      "Epoch 00001: val_categorical_accuracy improved from -inf to 0.82030, saving model to /home/cenk/Research/pre-trained-models/cv/fashion_mnist/shuffle_netv2_adam-01-0.82.hdf5\n",
      "235/234 [==============================] - 17s 71ms/step - loss: 0.6542 - accuracy: 0.7527 - categorical_crossentropy: 0.6538 - categorical_accuracy: 0.7527 - val_loss: 0.5098 - val_accuracy: 0.8203 - val_categorical_crossentropy: 0.5134 - val_categorical_accuracy: 0.8203\n",
      "Epoch 2/50\n",
      "234/234 [============================>.] - ETA: 0s - loss: 0.4498 - accuracy: 0.8307 - categorical_crossentropy: 0.4497 - categorical_accuracy: 0.8307\n",
      "Epoch 00002: val_categorical_accuracy improved from 0.82030 to 0.86520, saving model to /home/cenk/Research/pre-trained-models/cv/fashion_mnist/shuffle_netv2_adam-02-0.87.hdf5\n",
      "235/234 [==============================] - 16s 70ms/step - loss: 0.4499 - accuracy: 0.8307 - categorical_crossentropy: 0.4499 - categorical_accuracy: 0.8307 - val_loss: 0.3782 - val_accuracy: 0.8652 - val_categorical_crossentropy: 0.3807 - val_categorical_accuracy: 0.8652\n"
     ]
    },
    {
     "name": "stdout",
     "output_type": "stream",
     "text": [
      "Epoch 3/50\n",
      "234/234 [============================>.] - ETA: 0s - loss: 0.3911 - accuracy: 0.8535 - categorical_crossentropy: 0.3914 - categorical_accuracy: 0.8535\n",
      "Epoch 00003: val_categorical_accuracy improved from 0.86520 to 0.87420, saving model to /home/cenk/Research/pre-trained-models/cv/fashion_mnist/shuffle_netv2_adam-03-0.87.hdf5\n",
      "235/234 [==============================] - 16s 69ms/step - loss: 0.3912 - accuracy: 0.8535 - categorical_crossentropy: 0.3914 - categorical_accuracy: 0.8535 - val_loss: 0.3376 - val_accuracy: 0.8742 - val_categorical_crossentropy: 0.3401 - val_categorical_accuracy: 0.8742\n",
      "Epoch 4/50\n",
      "234/234 [============================>.] - ETA: 0s - loss: 0.3572 - accuracy: 0.8651 - categorical_crossentropy: 0.3571 - categorical_accuracy: 0.8651\n",
      "Epoch 00004: val_categorical_accuracy improved from 0.87420 to 0.88960, saving model to /home/cenk/Research/pre-trained-models/cv/fashion_mnist/shuffle_netv2_adam-04-0.89.hdf5\n",
      "235/234 [==============================] - 16s 69ms/step - loss: 0.3570 - accuracy: 0.8652 - categorical_crossentropy: 0.3569 - categorical_accuracy: 0.8652 - val_loss: 0.2988 - val_accuracy: 0.8896 - val_categorical_crossentropy: 0.3006 - val_categorical_accuracy: 0.8896\n",
      "\n",
      "Epoch 00005: starting stochastic weight averaging\n",
      "Epoch 5/50\n",
      "234/234 [============================>.] - ETA: 0s - loss: 0.3348 - accuracy: 0.8732 - categorical_crossentropy: 0.3349 - categorical_accuracy: 0.8732\n",
      "Epoch 00005: val_categorical_accuracy improved from 0.88960 to 0.89540, saving model to /home/cenk/Research/pre-trained-models/cv/fashion_mnist/shuffle_netv2_adam-05-0.90.hdf5\n",
      "235/234 [==============================] - 17s 71ms/step - loss: 0.3349 - accuracy: 0.8732 - categorical_crossentropy: 0.3350 - categorical_accuracy: 0.8732 - val_loss: 0.2780 - val_accuracy: 0.8954 - val_categorical_crossentropy: 0.2804 - val_categorical_accuracy: 0.8954\n",
      "Epoch 6/50\n",
      "234/234 [============================>.] - ETA: 0s - loss: 0.3188 - accuracy: 0.8793 - categorical_crossentropy: 0.3186 - categorical_accuracy: 0.8793\n",
      "Epoch 00006: val_categorical_accuracy improved from 0.89540 to 0.89810, saving model to /home/cenk/Research/pre-trained-models/cv/fashion_mnist/shuffle_netv2_adam-06-0.90.hdf5\n",
      "235/234 [==============================] - 16s 69ms/step - loss: 0.3191 - accuracy: 0.8792 - categorical_crossentropy: 0.3189 - categorical_accuracy: 0.8792 - val_loss: 0.2748 - val_accuracy: 0.8981 - val_categorical_crossentropy: 0.2764 - val_categorical_accuracy: 0.8981\n",
      "Epoch 7/50\n",
      "234/234 [============================>.] - ETA: 0s - loss: 0.3084 - accuracy: 0.8846 - categorical_crossentropy: 0.3084 - categorical_accuracy: 0.8846\n",
      "Epoch 00007: val_categorical_accuracy improved from 0.89810 to 0.90790, saving model to /home/cenk/Research/pre-trained-models/cv/fashion_mnist/shuffle_netv2_adam-07-0.91.hdf5\n",
      "235/234 [==============================] - 16s 69ms/step - loss: 0.3088 - accuracy: 0.8845 - categorical_crossentropy: 0.3087 - categorical_accuracy: 0.8845 - val_loss: 0.2595 - val_accuracy: 0.9079 - val_categorical_crossentropy: 0.2609 - val_categorical_accuracy: 0.9079\n",
      "Epoch 8/50\n",
      "234/234 [============================>.] - ETA: 0s - loss: 0.2991 - accuracy: 0.8882 - categorical_crossentropy: 0.2989 - categorical_accuracy: 0.8882\n",
      "Epoch 00008: val_categorical_accuracy did not improve from 0.90790\n",
      "235/234 [==============================] - 16s 69ms/step - loss: 0.2990 - accuracy: 0.8883 - categorical_crossentropy: 0.2988 - categorical_accuracy: 0.8883 - val_loss: 0.2629 - val_accuracy: 0.9050 - val_categorical_crossentropy: 0.2640 - val_categorical_accuracy: 0.9050\n",
      "Epoch 9/50\n",
      "234/234 [============================>.] - ETA: 0s - loss: 0.2896 - accuracy: 0.8914 - categorical_crossentropy: 0.2897 - categorical_accuracy: 0.8914\n",
      "Epoch 00009: val_categorical_accuracy did not improve from 0.90790\n",
      "235/234 [==============================] - 16s 70ms/step - loss: 0.2896 - accuracy: 0.8913 - categorical_crossentropy: 0.2897 - categorical_accuracy: 0.8913 - val_loss: 0.2795 - val_accuracy: 0.8959 - val_categorical_crossentropy: 0.2815 - val_categorical_accuracy: 0.8959\n",
      "Epoch 10/50\n",
      "234/234 [============================>.] - ETA: 0s - loss: 0.2850 - accuracy: 0.8941 - categorical_crossentropy: 0.2852 - categorical_accuracy: 0.8941\n",
      "Epoch 00010: val_categorical_accuracy improved from 0.90790 to 0.90910, saving model to /home/cenk/Research/pre-trained-models/cv/fashion_mnist/shuffle_netv2_adam-10-0.91.hdf5\n",
      "235/234 [==============================] - 16s 70ms/step - loss: 0.2852 - accuracy: 0.8942 - categorical_crossentropy: 0.2854 - categorical_accuracy: 0.8942 - val_loss: 0.2553 - val_accuracy: 0.9091 - val_categorical_crossentropy: 0.2565 - val_categorical_accuracy: 0.9091\n",
      "Epoch 11/50\n",
      "234/234 [============================>.] - ETA: 0s - loss: 0.2802 - accuracy: 0.8955 - categorical_crossentropy: 0.2803 - categorical_accuracy: 0.8955\n",
      "Epoch 00011: val_categorical_accuracy improved from 0.90910 to 0.91390, saving model to /home/cenk/Research/pre-trained-models/cv/fashion_mnist/shuffle_netv2_adam-11-0.91.hdf5\n",
      "235/234 [==============================] - 16s 69ms/step - loss: 0.2802 - accuracy: 0.8955 - categorical_crossentropy: 0.2803 - categorical_accuracy: 0.8955 - val_loss: 0.2324 - val_accuracy: 0.9139 - val_categorical_crossentropy: 0.2335 - val_categorical_accuracy: 0.9139\n",
      "Epoch 12/50\n",
      "234/234 [============================>.] - ETA: 0s - loss: 0.2726 - accuracy: 0.8978 - categorical_crossentropy: 0.2727 - categorical_accuracy: 0.8978\n",
      "Epoch 00012: val_categorical_accuracy did not improve from 0.91390\n",
      "235/234 [==============================] - 16s 69ms/step - loss: 0.2726 - accuracy: 0.8978 - categorical_crossentropy: 0.2727 - categorical_accuracy: 0.8978 - val_loss: 0.2528 - val_accuracy: 0.9084 - val_categorical_crossentropy: 0.2532 - val_categorical_accuracy: 0.9084\n",
      "Epoch 13/50\n",
      "234/234 [============================>.] - ETA: 0s - loss: 0.2703 - accuracy: 0.8987 - categorical_crossentropy: 0.2702 - categorical_accuracy: 0.8987\n",
      "Epoch 00013: val_categorical_accuracy did not improve from 0.91390\n",
      "235/234 [==============================] - 16s 70ms/step - loss: 0.2700 - accuracy: 0.8988 - categorical_crossentropy: 0.2699 - categorical_accuracy: 0.8988 - val_loss: 0.2335 - val_accuracy: 0.9136 - val_categorical_crossentropy: 0.2340 - val_categorical_accuracy: 0.9136\n",
      "Epoch 14/50\n",
      "234/234 [============================>.] - ETA: 0s - loss: 0.2644 - accuracy: 0.9012 - categorical_crossentropy: 0.2645 - categorical_accuracy: 0.9012\n",
      "Epoch 00014: val_categorical_accuracy did not improve from 0.91390\n",
      "\n",
      "Epoch 00014: ReduceLROnPlateau reducing learning rate to 0.0005000000237487257.\n",
      "235/234 [==============================] - 17s 71ms/step - loss: 0.2642 - accuracy: 0.9012 - categorical_crossentropy: 0.2643 - categorical_accuracy: 0.9012 - val_loss: 0.2349 - val_accuracy: 0.9131 - val_categorical_crossentropy: 0.2348 - val_categorical_accuracy: 0.9131\n",
      "Epoch 15/50\n",
      "234/234 [============================>.] - ETA: 0s - loss: 0.2580 - accuracy: 0.9029 - categorical_crossentropy: 0.2581 - categorical_accuracy: 0.9029\n",
      "Epoch 00015: val_categorical_accuracy improved from 0.91390 to 0.91580, saving model to /home/cenk/Research/pre-trained-models/cv/fashion_mnist/shuffle_netv2_adam-15-0.92.hdf5\n",
      "235/234 [==============================] - 16s 70ms/step - loss: 0.2582 - accuracy: 0.9028 - categorical_crossentropy: 0.2582 - categorical_accuracy: 0.9028 - val_loss: 0.2256 - val_accuracy: 0.9158 - val_categorical_crossentropy: 0.2267 - val_categorical_accuracy: 0.9158\n",
      "Epoch 16/50\n",
      "234/234 [============================>.] - ETA: 0s - loss: 0.2560 - accuracy: 0.9046 - categorical_crossentropy: 0.2555 - categorical_accuracy: 0.9046\n",
      "Epoch 00016: val_categorical_accuracy did not improve from 0.91580\n",
      "235/234 [==============================] - 16s 70ms/step - loss: 0.2559 - accuracy: 0.9046 - categorical_crossentropy: 0.2555 - categorical_accuracy: 0.9046 - val_loss: 0.2294 - val_accuracy: 0.9136 - val_categorical_crossentropy: 0.2324 - val_categorical_accuracy: 0.9136\n",
      "Epoch 17/50\n"
     ]
    },
    {
     "name": "stdout",
     "output_type": "stream",
     "text": [
      "234/234 [============================>.] - ETA: 0s - loss: 0.2526 - accuracy: 0.9043 - categorical_crossentropy: 0.2527 - categorical_accuracy: 0.9043\n",
      "Epoch 00017: val_categorical_accuracy did not improve from 0.91580\n",
      "235/234 [==============================] - 16s 69ms/step - loss: 0.2526 - accuracy: 0.9044 - categorical_crossentropy: 0.2526 - categorical_accuracy: 0.9044 - val_loss: 0.2327 - val_accuracy: 0.9132 - val_categorical_crossentropy: 0.2353 - val_categorical_accuracy: 0.9132\n",
      "Epoch 18/50\n",
      "234/234 [============================>.] - ETA: 0s - loss: 0.2518 - accuracy: 0.9059 - categorical_crossentropy: 0.2517 - categorical_accuracy: 0.9059\n",
      "Epoch 00018: val_categorical_accuracy improved from 0.91580 to 0.91990, saving model to /home/cenk/Research/pre-trained-models/cv/fashion_mnist/shuffle_netv2_adam-18-0.92.hdf5\n",
      "235/234 [==============================] - 17s 70ms/step - loss: 0.2517 - accuracy: 0.9060 - categorical_crossentropy: 0.2515 - categorical_accuracy: 0.9060 - val_loss: 0.2147 - val_accuracy: 0.9199 - val_categorical_crossentropy: 0.2179 - val_categorical_accuracy: 0.9199\n",
      "Epoch 19/50\n",
      "234/234 [============================>.] - ETA: 0s - loss: 0.2463 - accuracy: 0.9071 - categorical_crossentropy: 0.2465 - categorical_accuracy: 0.9071\n",
      "Epoch 00019: val_categorical_accuracy did not improve from 0.91990\n",
      "235/234 [==============================] - 16s 70ms/step - loss: 0.2462 - accuracy: 0.9071 - categorical_crossentropy: 0.2465 - categorical_accuracy: 0.9071 - val_loss: 0.2239 - val_accuracy: 0.9170 - val_categorical_crossentropy: 0.2265 - val_categorical_accuracy: 0.9170\n",
      "Epoch 20/50\n",
      "234/234 [============================>.] - ETA: 0s - loss: 0.2445 - accuracy: 0.9092 - categorical_crossentropy: 0.2445 - categorical_accuracy: 0.9092\n",
      "Epoch 00020: val_categorical_accuracy did not improve from 0.91990\n",
      "235/234 [==============================] - 17s 73ms/step - loss: 0.2445 - accuracy: 0.9093 - categorical_crossentropy: 0.2445 - categorical_accuracy: 0.9093 - val_loss: 0.2315 - val_accuracy: 0.9154 - val_categorical_crossentropy: 0.2322 - val_categorical_accuracy: 0.9154\n",
      "Epoch 21/50\n",
      "234/234 [============================>.] - ETA: 0s - loss: 0.2409 - accuracy: 0.9110 - categorical_crossentropy: 0.2411 - categorical_accuracy: 0.9110\n",
      "Epoch 00021: val_categorical_accuracy did not improve from 0.91990\n",
      "\n",
      "Epoch 00021: ReduceLROnPlateau reducing learning rate to 0.0005000000237487257.\n",
      "235/234 [==============================] - 16s 69ms/step - loss: 0.2410 - accuracy: 0.9109 - categorical_crossentropy: 0.2412 - categorical_accuracy: 0.9109 - val_loss: 0.2320 - val_accuracy: 0.9129 - val_categorical_crossentropy: 0.2347 - val_categorical_accuracy: 0.9129\n",
      "Epoch 22/50\n",
      "234/234 [============================>.] - ETA: 0s - loss: 0.2391 - accuracy: 0.9114 - categorical_crossentropy: 0.2390 - categorical_accuracy: 0.9114\n",
      "Epoch 00022: val_categorical_accuracy did not improve from 0.91990\n",
      "235/234 [==============================] - 16s 69ms/step - loss: 0.2393 - accuracy: 0.9113 - categorical_crossentropy: 0.2392 - categorical_accuracy: 0.9113 - val_loss: 0.2189 - val_accuracy: 0.9174 - val_categorical_crossentropy: 0.2217 - val_categorical_accuracy: 0.9174\n",
      "Epoch 23/50\n",
      "234/234 [============================>.] - ETA: 0s - loss: 0.2328 - accuracy: 0.9126 - categorical_crossentropy: 0.2327 - categorical_accuracy: 0.9126\n",
      "Epoch 00023: val_categorical_accuracy did not improve from 0.91990\n",
      "235/234 [==============================] - 16s 70ms/step - loss: 0.2326 - accuracy: 0.9127 - categorical_crossentropy: 0.2326 - categorical_accuracy: 0.9127 - val_loss: 0.2227 - val_accuracy: 0.9177 - val_categorical_crossentropy: 0.2236 - val_categorical_accuracy: 0.9177\n",
      "\n",
      "Epoch 00051: final model weights set to stochastic weight average\n"
     ]
    }
   ],
   "source": [
    "histories = {}\n",
    "epochs = 50\n",
    "for opt_name, opt in optimizers.items():\n",
    "    # Train a basic cnn\n",
    "    model_name = f'simple_cnn_{opt_name}'\n",
    "    model = SimpleCNN(opt)\n",
    "    history = model.train(data_generator, X_train, y_train, X_val, y_val,\n",
    "                          2048, epochs, get_callbacks(model_name))\n",
    "    histories[model_name] = history.history\n",
    "    \n",
    "    # Train shufflenetv2\n",
    "    model_name = f'shuffle_netv2_{opt_name}'\n",
    "    model = SimpleCNN(opt)\n",
    "    history = model.train(data_generator, X_train, y_train, X_val, y_val,\n",
    "                          256, epochs, get_callbacks(model_name))\n",
    "    histories[model_name] = history.history"
   ]
  },
  {
   "cell_type": "code",
   "execution_count": 7,
   "metadata": {},
   "outputs": [
    {
     "data": {
      "application/vnd.plotly.v1+json": {
       "config": {
        "linkText": "Export to plot.ly",
        "plotlyServerURL": "https://plot.ly",
        "showLink": false
       },
       "data": [
        {
         "marker": {
          "color": "#778899"
         },
         "mode": "markers+lines",
         "name": "simple_cnn_rmsprop",
         "text": [
          "1",
          "2",
          "3",
          "4",
          "5",
          "6",
          "7",
          "8",
          "9",
          "10",
          "11",
          "12",
          "13",
          "14",
          "15",
          "16",
          "17",
          "18",
          "19",
          "20",
          "21",
          "22",
          "23",
          "24",
          "25",
          "26",
          "27",
          "28",
          "29",
          "30",
          "31",
          "32",
          "33"
         ],
         "type": "scatter",
         "x": [
          1,
          2,
          3,
          4,
          5,
          6,
          7,
          8,
          9,
          10,
          11,
          12,
          13,
          14,
          15,
          16,
          17,
          18,
          19,
          20,
          21,
          22,
          23,
          24,
          25,
          26,
          27,
          28,
          29,
          30,
          31,
          32,
          33
         ],
         "xaxis": "x",
         "y": [
          0.6161166429519653,
          0.757183313369751,
          0.7922499775886536,
          0.8149333596229553,
          0.8312333226203918,
          0.8460833430290222,
          0.854116678237915,
          0.8599166870117188,
          0.8670666813850403,
          0.8722333312034607,
          0.8749499917030334,
          0.8802000284194946,
          0.8827333450317383,
          0.885783314704895,
          0.8859000205993652,
          0.8886500000953674,
          0.8920666575431824,
          0.89451664686203,
          0.8964166641235352,
          0.8969500064849854,
          0.8988333344459534,
          0.9024999737739563,
          0.9013333320617676,
          0.9053666591644287,
          0.9055833220481873,
          0.9055666923522949,
          0.9068833589553833,
          0.9084833264350891,
          0.9098666906356812,
          0.9112333059310913,
          0.9106166958808899,
          0.912066638469696,
          0.9139000177383423
         ],
         "yaxis": "y"
        },
        {
         "marker": {
          "color": "#778899"
         },
         "mode": "markers+lines",
         "name": "simple_cnn_rmsprop",
         "text": [
          "1",
          "2",
          "3",
          "4",
          "5",
          "6",
          "7",
          "8",
          "9",
          "10",
          "11",
          "12",
          "13",
          "14",
          "15",
          "16",
          "17",
          "18",
          "19",
          "20",
          "21",
          "22",
          "23",
          "24",
          "25",
          "26",
          "27",
          "28",
          "29",
          "30",
          "31",
          "32",
          "33"
         ],
         "type": "scatter",
         "x": [
          1,
          2,
          3,
          4,
          5,
          6,
          7,
          8,
          9,
          10,
          11,
          12,
          13,
          14,
          15,
          16,
          17,
          18,
          19,
          20,
          21,
          22,
          23,
          24,
          25,
          26,
          27,
          28,
          29,
          30,
          31,
          32,
          33
         ],
         "xaxis": "x2",
         "y": [
          0.5842999815940857,
          0.76419997215271,
          0.7599999904632568,
          0.7964000105857849,
          0.8185999989509583,
          0.7773000001907349,
          0.7436000108718872,
          0.8550999760627747,
          0.7678999900817871,
          0.8899000287055969,
          0.8916000127792358,
          0.866599977016449,
          0.8964999914169312,
          0.8791000247001648,
          0.8406000137329102,
          0.9046000242233276,
          0.8966000080108643,
          0.8956000208854675,
          0.8794000148773193,
          0.9064000248908997,
          0.9027000069618225,
          0.9068999886512756,
          0.9032999873161316,
          0.8410000205039978,
          0.9110999703407288,
          0.9039000272750854,
          0.9068999886512756,
          0.9207000136375427,
          0.9196000099182129,
          0.9117000102996826,
          0.9154000282287598,
          0.9002000093460083,
          0.9003000259399414
         ],
         "yaxis": "y2"
        },
        {
         "marker": {
          "color": "#778899"
         },
         "mode": "markers+lines",
         "name": "simple_cnn_rmsprop",
         "text": [
          "1",
          "2",
          "3",
          "4",
          "5",
          "6",
          "7",
          "8",
          "9",
          "10",
          "11",
          "12",
          "13",
          "14",
          "15",
          "16",
          "17",
          "18",
          "19",
          "20",
          "21",
          "22",
          "23",
          "24",
          "25",
          "26",
          "27",
          "28",
          "29",
          "30",
          "31",
          "32",
          "33"
         ],
         "type": "scatter",
         "x": [
          1,
          2,
          3,
          4,
          5,
          6,
          7,
          8,
          9,
          10,
          11,
          12,
          13,
          14,
          15,
          16,
          17,
          18,
          19,
          20,
          21,
          22,
          23,
          24,
          25,
          26,
          27,
          28,
          29,
          30,
          31,
          32,
          33
         ],
         "xaxis": "x3",
         "y": [
          1.0354429485003154,
          0.6476353054682413,
          0.5517076650619507,
          0.49040464390118915,
          0.446700649134318,
          0.41341578663190204,
          0.3855083314100901,
          0.3689697161356608,
          0.3545201791445414,
          0.33989981179237366,
          0.33241097100575767,
          0.3204098209381104,
          0.31196725474993386,
          0.3051039533774058,
          0.3013772781689962,
          0.29434094812075295,
          0.28737161978085835,
          0.28222435262997947,
          0.27654849712053936,
          0.27080232288042705,
          0.26883169949849445,
          0.2627173536221186,
          0.2601386858224869,
          0.25549672372341153,
          0.25350617396831515,
          0.25242305075327554,
          0.24735314249197643,
          0.2456505227883657,
          0.24092255907058716,
          0.24041284670035043,
          0.2370207018852234,
          0.23584338901837668,
          0.23034525504906972
         ],
         "yaxis": "y3"
        },
        {
         "marker": {
          "color": "#778899"
         },
         "mode": "markers+lines",
         "name": "simple_cnn_rmsprop",
         "text": [
          "1",
          "2",
          "3",
          "4",
          "5",
          "6",
          "7",
          "8",
          "9",
          "10",
          "11",
          "12",
          "13",
          "14",
          "15",
          "16",
          "17",
          "18",
          "19",
          "20",
          "21",
          "22",
          "23",
          "24",
          "25",
          "26",
          "27",
          "28",
          "29",
          "30",
          "31",
          "32",
          "33"
         ],
         "type": "scatter",
         "x": [
          1,
          2,
          3,
          4,
          5,
          6,
          7,
          8,
          9,
          10,
          11,
          12,
          13,
          14,
          15,
          16,
          17,
          18,
          19,
          20,
          21,
          22,
          23,
          24,
          25,
          26,
          27,
          28,
          29,
          30,
          31,
          32,
          33
         ],
         "xaxis": "x4",
         "y": [
          1.7118710489834057,
          1.4329174757003784,
          1.279500389099121,
          1.0637272596359253,
          0.8764132380485534,
          0.8095768570899964,
          0.7563495755195617,
          0.5166591882705689,
          0.546364688873291,
          0.35976959466934205,
          0.3473589599132538,
          0.3482598066329956,
          0.2804427146911621,
          0.3217811405658722,
          0.40103175640106203,
          0.2530932903289795,
          0.2731193006038666,
          0.2836712062358856,
          0.3112697660923004,
          0.2511810064315796,
          0.26514732241630556,
          0.2560632437467575,
          0.26277884244918825,
          0.4175388427341686,
          0.24336400628089905,
          0.26335269510746,
          0.24990965723991393,
          0.2173883855342865,
          0.2224443644285202,
          0.23853980302810668,
          0.22717897295951844,
          0.2572425067424774,
          0.26811482310295104
         ],
         "yaxis": "y4"
        },
        {
         "marker": {
          "color": "#66CDAA"
         },
         "mode": "markers+lines",
         "name": "shuffle_netv2_rmsprop",
         "text": [
          "1",
          "2",
          "3",
          "4",
          "5",
          "6",
          "7",
          "8",
          "9",
          "10",
          "11",
          "12",
          "13",
          "14",
          "15",
          "16",
          "17",
          "18",
          "19",
          "20",
          "21",
          "22",
          "23",
          "24"
         ],
         "type": "scatter",
         "x": [
          1,
          2,
          3,
          4,
          5,
          6,
          7,
          8,
          9,
          10,
          11,
          12,
          13,
          14,
          15,
          16,
          17,
          18,
          19,
          20,
          21,
          22,
          23,
          24
         ],
         "xaxis": "x",
         "y": [
          0.747783362865448,
          0.833216667175293,
          0.8577333092689514,
          0.8686333298683167,
          0.8758500218391418,
          0.8821666836738586,
          0.8881833553314209,
          0.8907333612442017,
          0.8951833248138428,
          0.8976666927337646,
          0.897683322429657,
          0.9028333425521851,
          0.9038833379745483,
          0.9058333039283752,
          0.9068833589553833,
          0.9085833430290222,
          0.9090666770935059,
          0.909766674041748,
          0.9127833247184753,
          0.9144499897956848,
          0.9143999814987183,
          0.9144666790962219,
          0.9160500168800354,
          0.9173333048820496
         ],
         "yaxis": "y"
        },
        {
         "marker": {
          "color": "#66CDAA"
         },
         "mode": "markers+lines",
         "name": "shuffle_netv2_rmsprop",
         "text": [
          "1",
          "2",
          "3",
          "4",
          "5",
          "6",
          "7",
          "8",
          "9",
          "10",
          "11",
          "12",
          "13",
          "14",
          "15",
          "16",
          "17",
          "18",
          "19",
          "20",
          "21",
          "22",
          "23",
          "24"
         ],
         "type": "scatter",
         "x": [
          1,
          2,
          3,
          4,
          5,
          6,
          7,
          8,
          9,
          10,
          11,
          12,
          13,
          14,
          15,
          16,
          17,
          18,
          19,
          20,
          21,
          22,
          23,
          24
         ],
         "xaxis": "x2",
         "y": [
          0.8019000291824341,
          0.8654000163078308,
          0.8952000141143799,
          0.8888000249862671,
          0.8762000203132629,
          0.8985000252723694,
          0.9049999713897705,
          0.9114000201225281,
          0.9115999937057495,
          0.9185000061988831,
          0.9057999849319458,
          0.9143999814987183,
          0.9135000109672546,
          0.920799970626831,
          0.909600019454956,
          0.916700005531311,
          0.920799970626831,
          0.911899983882904,
          0.925000011920929,
          0.9186000227928162,
          0.91839998960495,
          0.9200000166893005,
          0.9218000173568726,
          0.9203000068664551
         ],
         "yaxis": "y2"
        },
        {
         "marker": {
          "color": "#66CDAA"
         },
         "mode": "markers+lines",
         "name": "shuffle_netv2_rmsprop",
         "text": [
          "1",
          "2",
          "3",
          "4",
          "5",
          "6",
          "7",
          "8",
          "9",
          "10",
          "11",
          "12",
          "13",
          "14",
          "15",
          "16",
          "17",
          "18",
          "19",
          "20",
          "21",
          "22",
          "23",
          "24"
         ],
         "type": "scatter",
         "x": [
          1,
          2,
          3,
          4,
          5,
          6,
          7,
          8,
          9,
          10,
          11,
          12,
          13,
          14,
          15,
          16,
          17,
          18,
          19,
          20,
          21,
          22,
          23,
          24
         ],
         "xaxis": "x3",
         "y": [
          0.6750671830177307,
          0.4384919999440511,
          0.37812946219444277,
          0.3466321491400401,
          0.32925768407185874,
          0.3114741411844889,
          0.29751242095629377,
          0.29200854454040526,
          0.28220630348523457,
          0.2736803467671076,
          0.2710037870883942,
          0.2625896297295888,
          0.2576269252300262,
          0.25361472396055856,
          0.24830906908512115,
          0.24587113717397055,
          0.24105498032569886,
          0.2396677964925766,
          0.23549409775733948,
          0.2299082764943441,
          0.2302382370551427,
          0.22925250510374706,
          0.22425619044303893,
          0.22369808872540792
         ],
         "yaxis": "y3"
        },
        {
         "marker": {
          "color": "#66CDAA"
         },
         "mode": "markers+lines",
         "name": "shuffle_netv2_rmsprop",
         "text": [
          "1",
          "2",
          "3",
          "4",
          "5",
          "6",
          "7",
          "8",
          "9",
          "10",
          "11",
          "12",
          "13",
          "14",
          "15",
          "16",
          "17",
          "18",
          "19",
          "20",
          "21",
          "22",
          "23",
          "24"
         ],
         "type": "scatter",
         "x": [
          1,
          2,
          3,
          4,
          5,
          6,
          7,
          8,
          9,
          10,
          11,
          12,
          13,
          14,
          15,
          16,
          17,
          18,
          19,
          20,
          21,
          22,
          23,
          24
         ],
         "xaxis": "x4",
         "y": [
          0.565778934955597,
          0.36450685411691663,
          0.2921391654759645,
          0.31421287581324575,
          0.34977475702762606,
          0.2723255820572376,
          0.2553035460412502,
          0.24610970169305801,
          0.2366652764379978,
          0.232252212241292,
          0.2565806843340397,
          0.2281730156391859,
          0.22654010467231273,
          0.217636988312006,
          0.24983613714575767,
          0.21967866811901332,
          0.21111573204398154,
          0.23506970405578614,
          0.20512900073081256,
          0.21955319717526436,
          0.21478722896426916,
          0.21248393058776854,
          0.21189671903848648,
          0.216927694901824
         ],
         "yaxis": "y4"
        },
        {
         "marker": {
          "color": "#00FFFF"
         },
         "mode": "markers+lines",
         "name": "simple_cnn_adam",
         "text": [
          "1",
          "2",
          "3",
          "4",
          "5",
          "6",
          "7",
          "8",
          "9",
          "10",
          "11",
          "12",
          "13",
          "14",
          "15",
          "16",
          "17",
          "18",
          "19",
          "20",
          "21",
          "22",
          "23",
          "24",
          "25",
          "26",
          "27",
          "28",
          "29"
         ],
         "type": "scatter",
         "x": [
          1,
          2,
          3,
          4,
          5,
          6,
          7,
          8,
          9,
          10,
          11,
          12,
          13,
          14,
          15,
          16,
          17,
          18,
          19,
          20,
          21,
          22,
          23,
          24,
          25,
          26,
          27,
          28,
          29
         ],
         "xaxis": "x",
         "y": [
          0.6420333385467529,
          0.7788833379745483,
          0.8127333521842957,
          0.8324000239372253,
          0.8460000157356262,
          0.8559666872024536,
          0.8636333346366882,
          0.87131667137146,
          0.8747000098228455,
          0.879883348941803,
          0.8828999996185303,
          0.885783314704895,
          0.887066662311554,
          0.8921666741371155,
          0.895383358001709,
          0.8968999981880188,
          0.8947499990463257,
          0.8997666835784912,
          0.9012333154678345,
          0.9052333235740662,
          0.9018999934196472,
          0.9059500098228455,
          0.9056000113487244,
          0.9078999757766724,
          0.9101999998092651,
          0.9095500111579895,
          0.9107833504676819,
          0.9114999771118164,
          0.911133348941803
         ],
         "yaxis": "y"
        },
        {
         "marker": {
          "color": "#00FFFF"
         },
         "mode": "markers+lines",
         "name": "simple_cnn_adam",
         "text": [
          "1",
          "2",
          "3",
          "4",
          "5",
          "6",
          "7",
          "8",
          "9",
          "10",
          "11",
          "12",
          "13",
          "14",
          "15",
          "16",
          "17",
          "18",
          "19",
          "20",
          "21",
          "22",
          "23",
          "24",
          "25",
          "26",
          "27",
          "28",
          "29"
         ],
         "type": "scatter",
         "x": [
          1,
          2,
          3,
          4,
          5,
          6,
          7,
          8,
          9,
          10,
          11,
          12,
          13,
          14,
          15,
          16,
          17,
          18,
          19,
          20,
          21,
          22,
          23,
          24,
          25,
          26,
          27,
          28,
          29
         ],
         "xaxis": "x2",
         "y": [
          0.6967999935150146,
          0.7574999928474426,
          0.7813000082969666,
          0.7810999751091003,
          0.828000009059906,
          0.8353000283241272,
          0.8334000110626221,
          0.8087999820709229,
          0.8652999997138977,
          0.8833000063896179,
          0.8898000121116638,
          0.8906999826431274,
          0.8952999711036682,
          0.8948000073432922,
          0.8967000246047974,
          0.8980000019073486,
          0.9068999886512756,
          0.9021000266075134,
          0.9111999869346619,
          0.887499988079071,
          0.9139000177383423,
          0.9161999821662903,
          0.9143999814987183,
          0.921999990940094,
          0.9194999933242798,
          0.9111999869346619,
          0.9182000160217285,
          0.9200000166893005,
          0.9197999835014343
         ],
         "yaxis": "y2"
        },
        {
         "marker": {
          "color": "#00FFFF"
         },
         "mode": "markers+lines",
         "name": "simple_cnn_adam",
         "text": [
          "1",
          "2",
          "3",
          "4",
          "5",
          "6",
          "7",
          "8",
          "9",
          "10",
          "11",
          "12",
          "13",
          "14",
          "15",
          "16",
          "17",
          "18",
          "19",
          "20",
          "21",
          "22",
          "23",
          "24",
          "25",
          "26",
          "27",
          "28",
          "29"
         ],
         "type": "scatter",
         "x": [
          1,
          2,
          3,
          4,
          5,
          6,
          7,
          8,
          9,
          10,
          11,
          12,
          13,
          14,
          15,
          16,
          17,
          18,
          19,
          20,
          21,
          22,
          23,
          24,
          25,
          26,
          27,
          28,
          29
         ],
         "xaxis": "x3",
         "y": [
          0.9981163371404012,
          0.5892828639984131,
          0.49694317639668784,
          0.4484834097703298,
          0.41073050944010414,
          0.3835107878526052,
          0.3640803693453471,
          0.34410456363360087,
          0.3332415378888448,
          0.3187689795176188,
          0.3108287743250529,
          0.30551428739229836,
          0.2999297448794047,
          0.2881881618817647,
          0.2805037334283193,
          0.2789269724686941,
          0.2777994586149852,
          0.26807821877797444,
          0.2649917148907979,
          0.25762552742958067,
          0.2631870911280314,
          0.2558603324731191,
          0.2536216857592265,
          0.2495336924950282,
          0.23900120905240377,
          0.2429496989250183,
          0.23944179700215656,
          0.23866148305733997,
          0.23458638326327005
         ],
         "yaxis": "y3"
        },
        {
         "marker": {
          "color": "#00FFFF"
         },
         "mode": "markers+lines",
         "name": "simple_cnn_adam",
         "text": [
          "1",
          "2",
          "3",
          "4",
          "5",
          "6",
          "7",
          "8",
          "9",
          "10",
          "11",
          "12",
          "13",
          "14",
          "15",
          "16",
          "17",
          "18",
          "19",
          "20",
          "21",
          "22",
          "23",
          "24",
          "25",
          "26",
          "27",
          "28",
          "29"
         ],
         "type": "scatter",
         "x": [
          1,
          2,
          3,
          4,
          5,
          6,
          7,
          8,
          9,
          10,
          11,
          12,
          13,
          14,
          15,
          16,
          17,
          18,
          19,
          20,
          21,
          22,
          23,
          24,
          25,
          26,
          27,
          28,
          29
         ],
         "xaxis": "x4",
         "y": [
          1.4501134395599364,
          1.4673231601715089,
          1.3547962427139282,
          1.2837965488433838,
          1.122812819480896,
          1.088962459564209,
          0.8324569821357727,
          0.7105440974235535,
          0.6168687105178833,
          0.5336798906326294,
          0.44867132902145385,
          0.3753198146820068,
          0.33168708682060244,
          0.32871357202529905,
          0.3051954090595245,
          0.28684616527136636,
          0.2620928078889847,
          0.2620734363794327,
          0.24815311133861542,
          0.29119153022766114,
          0.23413734138011932,
          0.2366507738828659,
          0.23078011572360993,
          0.213772514462471,
          0.2206717997789383,
          0.23652658462524415,
          0.22385961711406707,
          0.21856103837490082,
          0.22076256275177003
         ],
         "yaxis": "y4"
        },
        {
         "marker": {
          "color": "#708090"
         },
         "mode": "markers+lines",
         "name": "shuffle_netv2_adam",
         "text": [
          "1",
          "2",
          "3",
          "4",
          "5",
          "6",
          "7",
          "8",
          "9",
          "10",
          "11",
          "12",
          "13",
          "14",
          "15",
          "16",
          "17",
          "18",
          "19",
          "20",
          "21",
          "22",
          "23"
         ],
         "type": "scatter",
         "x": [
          1,
          2,
          3,
          4,
          5,
          6,
          7,
          8,
          9,
          10,
          11,
          12,
          13,
          14,
          15,
          16,
          17,
          18,
          19,
          20,
          21,
          22,
          23
         ],
         "xaxis": "x",
         "y": [
          0.7527333498001099,
          0.8306833505630493,
          0.8535333275794983,
          0.8652166724205017,
          0.8732333183288574,
          0.8792333602905273,
          0.8845000267028809,
          0.8882833123207092,
          0.8913166522979736,
          0.8941500186920166,
          0.895466685295105,
          0.8978166580200195,
          0.8987666964530945,
          0.901199996471405,
          0.9027500152587891,
          0.9046499729156494,
          0.904366672039032,
          0.9059833288192749,
          0.9071333408355713,
          0.9092666506767273,
          0.9108666777610779,
          0.9112833142280579,
          0.9127166867256165
         ],
         "yaxis": "y"
        },
        {
         "marker": {
          "color": "#708090"
         },
         "mode": "markers+lines",
         "name": "shuffle_netv2_adam",
         "text": [
          "1",
          "2",
          "3",
          "4",
          "5",
          "6",
          "7",
          "8",
          "9",
          "10",
          "11",
          "12",
          "13",
          "14",
          "15",
          "16",
          "17",
          "18",
          "19",
          "20",
          "21",
          "22",
          "23"
         ],
         "type": "scatter",
         "x": [
          1,
          2,
          3,
          4,
          5,
          6,
          7,
          8,
          9,
          10,
          11,
          12,
          13,
          14,
          15,
          16,
          17,
          18,
          19,
          20,
          21,
          22,
          23
         ],
         "xaxis": "x2",
         "y": [
          0.8202999830245972,
          0.8651999831199646,
          0.8741999864578247,
          0.8895999789237976,
          0.8953999876976013,
          0.8981000185012817,
          0.9078999757766724,
          0.9049999713897705,
          0.8959000110626221,
          0.9090999960899353,
          0.9139000177383423,
          0.9083999991416931,
          0.9136000275611877,
          0.913100004196167,
          0.9157999753952026,
          0.9136000275611877,
          0.9132000207901001,
          0.9199000000953674,
          0.9169999957084656,
          0.9154000282287598,
          0.9128999710083008,
          0.9174000024795532,
          0.9176999926567078
         ],
         "yaxis": "y2"
        },
        {
         "marker": {
          "color": "#708090"
         },
         "mode": "markers+lines",
         "name": "shuffle_netv2_adam",
         "text": [
          "1",
          "2",
          "3",
          "4",
          "5",
          "6",
          "7",
          "8",
          "9",
          "10",
          "11",
          "12",
          "13",
          "14",
          "15",
          "16",
          "17",
          "18",
          "19",
          "20",
          "21",
          "22",
          "23"
         ],
         "type": "scatter",
         "x": [
          1,
          2,
          3,
          4,
          5,
          6,
          7,
          8,
          9,
          10,
          11,
          12,
          13,
          14,
          15,
          16,
          17,
          18,
          19,
          20,
          21,
          22,
          23
         ],
         "xaxis": "x3",
         "y": [
          0.6537974143028259,
          0.449850829299291,
          0.3914145040353139,
          0.3568777087370555,
          0.33497489205996195,
          0.3188882864634196,
          0.3087316837946574,
          0.2987870208740234,
          0.2896532576560974,
          0.2853583636045456,
          0.2803478567679723,
          0.2726943576494853,
          0.2698678038279215,
          0.26430046457449596,
          0.25820192490418753,
          0.25546088461875915,
          0.25261115725040434,
          0.25154451451301574,
          0.24646634817123414,
          0.2445060378074646,
          0.24116162246068318,
          0.23918490942319234,
          0.23257625558376313
         ],
         "yaxis": "y3"
        },
        {
         "marker": {
          "color": "#708090"
         },
         "mode": "markers+lines",
         "name": "shuffle_netv2_adam",
         "text": [
          "1",
          "2",
          "3",
          "4",
          "5",
          "6",
          "7",
          "8",
          "9",
          "10",
          "11",
          "12",
          "13",
          "14",
          "15",
          "16",
          "17",
          "18",
          "19",
          "20",
          "21",
          "22",
          "23"
         ],
         "type": "scatter",
         "x": [
          1,
          2,
          3,
          4,
          5,
          6,
          7,
          8,
          9,
          10,
          11,
          12,
          13,
          14,
          15,
          16,
          17,
          18,
          19,
          20,
          21,
          22,
          23
         ],
         "xaxis": "x4",
         "y": [
          0.5097837746143341,
          0.3782227925956249,
          0.33762593790888784,
          0.29880352653563025,
          0.27804866917431353,
          0.274825494363904,
          0.25946443527936935,
          0.2628546591848135,
          0.2794890470802784,
          0.2553169261664152,
          0.2323583669960499,
          0.25276485420763495,
          0.2334801610559225,
          0.23487081080675126,
          0.22564718946814538,
          0.229355444945395,
          0.23273058012127876,
          0.21474069859832526,
          0.2239222152158618,
          0.2314873491014753,
          0.23195515759289265,
          0.2189366387203336,
          0.2226755555719137
         ],
         "yaxis": "y4"
        }
       ],
       "layout": {
        "annotations": [
         {
          "font": {
           "size": 16
          },
          "showarrow": false,
          "text": "Training accuracy",
          "x": 0.225,
          "xanchor": "center",
          "xref": "paper",
          "y": 1,
          "yanchor": "bottom",
          "yref": "paper"
         },
         {
          "font": {
           "size": 16
          },
          "showarrow": false,
          "text": "Validation accuracy",
          "x": 0.775,
          "xanchor": "center",
          "xref": "paper",
          "y": 1,
          "yanchor": "bottom",
          "yref": "paper"
         },
         {
          "font": {
           "size": 16
          },
          "showarrow": false,
          "text": "Training loss ",
          "x": 0.225,
          "xanchor": "center",
          "xref": "paper",
          "y": 0.375,
          "yanchor": "bottom",
          "yref": "paper"
         },
         {
          "font": {
           "size": 16
          },
          "showarrow": false,
          "text": "Validation loss",
          "x": 0.775,
          "xanchor": "center",
          "xref": "paper",
          "y": 0.375,
          "yanchor": "bottom",
          "yref": "paper"
         }
        ],
        "template": {
         "data": {
          "bar": [
           {
            "error_x": {
             "color": "#2a3f5f"
            },
            "error_y": {
             "color": "#2a3f5f"
            },
            "marker": {
             "line": {
              "color": "#E5ECF6",
              "width": 0.5
             }
            },
            "type": "bar"
           }
          ],
          "barpolar": [
           {
            "marker": {
             "line": {
              "color": "#E5ECF6",
              "width": 0.5
             }
            },
            "type": "barpolar"
           }
          ],
          "carpet": [
           {
            "aaxis": {
             "endlinecolor": "#2a3f5f",
             "gridcolor": "white",
             "linecolor": "white",
             "minorgridcolor": "white",
             "startlinecolor": "#2a3f5f"
            },
            "baxis": {
             "endlinecolor": "#2a3f5f",
             "gridcolor": "white",
             "linecolor": "white",
             "minorgridcolor": "white",
             "startlinecolor": "#2a3f5f"
            },
            "type": "carpet"
           }
          ],
          "choropleth": [
           {
            "colorbar": {
             "outlinewidth": 0,
             "ticks": ""
            },
            "type": "choropleth"
           }
          ],
          "contour": [
           {
            "colorbar": {
             "outlinewidth": 0,
             "ticks": ""
            },
            "colorscale": [
             [
              0,
              "#0d0887"
             ],
             [
              0.1111111111111111,
              "#46039f"
             ],
             [
              0.2222222222222222,
              "#7201a8"
             ],
             [
              0.3333333333333333,
              "#9c179e"
             ],
             [
              0.4444444444444444,
              "#bd3786"
             ],
             [
              0.5555555555555556,
              "#d8576b"
             ],
             [
              0.6666666666666666,
              "#ed7953"
             ],
             [
              0.7777777777777778,
              "#fb9f3a"
             ],
             [
              0.8888888888888888,
              "#fdca26"
             ],
             [
              1,
              "#f0f921"
             ]
            ],
            "type": "contour"
           }
          ],
          "contourcarpet": [
           {
            "colorbar": {
             "outlinewidth": 0,
             "ticks": ""
            },
            "type": "contourcarpet"
           }
          ],
          "heatmap": [
           {
            "colorbar": {
             "outlinewidth": 0,
             "ticks": ""
            },
            "colorscale": [
             [
              0,
              "#0d0887"
             ],
             [
              0.1111111111111111,
              "#46039f"
             ],
             [
              0.2222222222222222,
              "#7201a8"
             ],
             [
              0.3333333333333333,
              "#9c179e"
             ],
             [
              0.4444444444444444,
              "#bd3786"
             ],
             [
              0.5555555555555556,
              "#d8576b"
             ],
             [
              0.6666666666666666,
              "#ed7953"
             ],
             [
              0.7777777777777778,
              "#fb9f3a"
             ],
             [
              0.8888888888888888,
              "#fdca26"
             ],
             [
              1,
              "#f0f921"
             ]
            ],
            "type": "heatmap"
           }
          ],
          "heatmapgl": [
           {
            "colorbar": {
             "outlinewidth": 0,
             "ticks": ""
            },
            "colorscale": [
             [
              0,
              "#0d0887"
             ],
             [
              0.1111111111111111,
              "#46039f"
             ],
             [
              0.2222222222222222,
              "#7201a8"
             ],
             [
              0.3333333333333333,
              "#9c179e"
             ],
             [
              0.4444444444444444,
              "#bd3786"
             ],
             [
              0.5555555555555556,
              "#d8576b"
             ],
             [
              0.6666666666666666,
              "#ed7953"
             ],
             [
              0.7777777777777778,
              "#fb9f3a"
             ],
             [
              0.8888888888888888,
              "#fdca26"
             ],
             [
              1,
              "#f0f921"
             ]
            ],
            "type": "heatmapgl"
           }
          ],
          "histogram": [
           {
            "marker": {
             "colorbar": {
              "outlinewidth": 0,
              "ticks": ""
             }
            },
            "type": "histogram"
           }
          ],
          "histogram2d": [
           {
            "colorbar": {
             "outlinewidth": 0,
             "ticks": ""
            },
            "colorscale": [
             [
              0,
              "#0d0887"
             ],
             [
              0.1111111111111111,
              "#46039f"
             ],
             [
              0.2222222222222222,
              "#7201a8"
             ],
             [
              0.3333333333333333,
              "#9c179e"
             ],
             [
              0.4444444444444444,
              "#bd3786"
             ],
             [
              0.5555555555555556,
              "#d8576b"
             ],
             [
              0.6666666666666666,
              "#ed7953"
             ],
             [
              0.7777777777777778,
              "#fb9f3a"
             ],
             [
              0.8888888888888888,
              "#fdca26"
             ],
             [
              1,
              "#f0f921"
             ]
            ],
            "type": "histogram2d"
           }
          ],
          "histogram2dcontour": [
           {
            "colorbar": {
             "outlinewidth": 0,
             "ticks": ""
            },
            "colorscale": [
             [
              0,
              "#0d0887"
             ],
             [
              0.1111111111111111,
              "#46039f"
             ],
             [
              0.2222222222222222,
              "#7201a8"
             ],
             [
              0.3333333333333333,
              "#9c179e"
             ],
             [
              0.4444444444444444,
              "#bd3786"
             ],
             [
              0.5555555555555556,
              "#d8576b"
             ],
             [
              0.6666666666666666,
              "#ed7953"
             ],
             [
              0.7777777777777778,
              "#fb9f3a"
             ],
             [
              0.8888888888888888,
              "#fdca26"
             ],
             [
              1,
              "#f0f921"
             ]
            ],
            "type": "histogram2dcontour"
           }
          ],
          "mesh3d": [
           {
            "colorbar": {
             "outlinewidth": 0,
             "ticks": ""
            },
            "type": "mesh3d"
           }
          ],
          "parcoords": [
           {
            "line": {
             "colorbar": {
              "outlinewidth": 0,
              "ticks": ""
             }
            },
            "type": "parcoords"
           }
          ],
          "pie": [
           {
            "automargin": true,
            "type": "pie"
           }
          ],
          "scatter": [
           {
            "marker": {
             "colorbar": {
              "outlinewidth": 0,
              "ticks": ""
             }
            },
            "type": "scatter"
           }
          ],
          "scatter3d": [
           {
            "line": {
             "colorbar": {
              "outlinewidth": 0,
              "ticks": ""
             }
            },
            "marker": {
             "colorbar": {
              "outlinewidth": 0,
              "ticks": ""
             }
            },
            "type": "scatter3d"
           }
          ],
          "scattercarpet": [
           {
            "marker": {
             "colorbar": {
              "outlinewidth": 0,
              "ticks": ""
             }
            },
            "type": "scattercarpet"
           }
          ],
          "scattergeo": [
           {
            "marker": {
             "colorbar": {
              "outlinewidth": 0,
              "ticks": ""
             }
            },
            "type": "scattergeo"
           }
          ],
          "scattergl": [
           {
            "marker": {
             "colorbar": {
              "outlinewidth": 0,
              "ticks": ""
             }
            },
            "type": "scattergl"
           }
          ],
          "scattermapbox": [
           {
            "marker": {
             "colorbar": {
              "outlinewidth": 0,
              "ticks": ""
             }
            },
            "type": "scattermapbox"
           }
          ],
          "scatterpolar": [
           {
            "marker": {
             "colorbar": {
              "outlinewidth": 0,
              "ticks": ""
             }
            },
            "type": "scatterpolar"
           }
          ],
          "scatterpolargl": [
           {
            "marker": {
             "colorbar": {
              "outlinewidth": 0,
              "ticks": ""
             }
            },
            "type": "scatterpolargl"
           }
          ],
          "scatterternary": [
           {
            "marker": {
             "colorbar": {
              "outlinewidth": 0,
              "ticks": ""
             }
            },
            "type": "scatterternary"
           }
          ],
          "surface": [
           {
            "colorbar": {
             "outlinewidth": 0,
             "ticks": ""
            },
            "colorscale": [
             [
              0,
              "#0d0887"
             ],
             [
              0.1111111111111111,
              "#46039f"
             ],
             [
              0.2222222222222222,
              "#7201a8"
             ],
             [
              0.3333333333333333,
              "#9c179e"
             ],
             [
              0.4444444444444444,
              "#bd3786"
             ],
             [
              0.5555555555555556,
              "#d8576b"
             ],
             [
              0.6666666666666666,
              "#ed7953"
             ],
             [
              0.7777777777777778,
              "#fb9f3a"
             ],
             [
              0.8888888888888888,
              "#fdca26"
             ],
             [
              1,
              "#f0f921"
             ]
            ],
            "type": "surface"
           }
          ],
          "table": [
           {
            "cells": {
             "fill": {
              "color": "#EBF0F8"
             },
             "line": {
              "color": "white"
             }
            },
            "header": {
             "fill": {
              "color": "#C8D4E3"
             },
             "line": {
              "color": "white"
             }
            },
            "type": "table"
           }
          ]
         },
         "layout": {
          "annotationdefaults": {
           "arrowcolor": "#2a3f5f",
           "arrowhead": 0,
           "arrowwidth": 1
          },
          "coloraxis": {
           "colorbar": {
            "outlinewidth": 0,
            "ticks": ""
           }
          },
          "colorscale": {
           "diverging": [
            [
             0,
             "#8e0152"
            ],
            [
             0.1,
             "#c51b7d"
            ],
            [
             0.2,
             "#de77ae"
            ],
            [
             0.3,
             "#f1b6da"
            ],
            [
             0.4,
             "#fde0ef"
            ],
            [
             0.5,
             "#f7f7f7"
            ],
            [
             0.6,
             "#e6f5d0"
            ],
            [
             0.7,
             "#b8e186"
            ],
            [
             0.8,
             "#7fbc41"
            ],
            [
             0.9,
             "#4d9221"
            ],
            [
             1,
             "#276419"
            ]
           ],
           "sequential": [
            [
             0,
             "#0d0887"
            ],
            [
             0.1111111111111111,
             "#46039f"
            ],
            [
             0.2222222222222222,
             "#7201a8"
            ],
            [
             0.3333333333333333,
             "#9c179e"
            ],
            [
             0.4444444444444444,
             "#bd3786"
            ],
            [
             0.5555555555555556,
             "#d8576b"
            ],
            [
             0.6666666666666666,
             "#ed7953"
            ],
            [
             0.7777777777777778,
             "#fb9f3a"
            ],
            [
             0.8888888888888888,
             "#fdca26"
            ],
            [
             1,
             "#f0f921"
            ]
           ],
           "sequentialminus": [
            [
             0,
             "#0d0887"
            ],
            [
             0.1111111111111111,
             "#46039f"
            ],
            [
             0.2222222222222222,
             "#7201a8"
            ],
            [
             0.3333333333333333,
             "#9c179e"
            ],
            [
             0.4444444444444444,
             "#bd3786"
            ],
            [
             0.5555555555555556,
             "#d8576b"
            ],
            [
             0.6666666666666666,
             "#ed7953"
            ],
            [
             0.7777777777777778,
             "#fb9f3a"
            ],
            [
             0.8888888888888888,
             "#fdca26"
            ],
            [
             1,
             "#f0f921"
            ]
           ]
          },
          "colorway": [
           "#636efa",
           "#EF553B",
           "#00cc96",
           "#ab63fa",
           "#FFA15A",
           "#19d3f3",
           "#FF6692",
           "#B6E880",
           "#FF97FF",
           "#FECB52"
          ],
          "font": {
           "color": "#2a3f5f"
          },
          "geo": {
           "bgcolor": "white",
           "lakecolor": "white",
           "landcolor": "#E5ECF6",
           "showlakes": true,
           "showland": true,
           "subunitcolor": "white"
          },
          "hoverlabel": {
           "align": "left"
          },
          "hovermode": "closest",
          "mapbox": {
           "style": "light"
          },
          "paper_bgcolor": "white",
          "plot_bgcolor": "#E5ECF6",
          "polar": {
           "angularaxis": {
            "gridcolor": "white",
            "linecolor": "white",
            "ticks": ""
           },
           "bgcolor": "#E5ECF6",
           "radialaxis": {
            "gridcolor": "white",
            "linecolor": "white",
            "ticks": ""
           }
          },
          "scene": {
           "xaxis": {
            "backgroundcolor": "#E5ECF6",
            "gridcolor": "white",
            "gridwidth": 2,
            "linecolor": "white",
            "showbackground": true,
            "ticks": "",
            "zerolinecolor": "white"
           },
           "yaxis": {
            "backgroundcolor": "#E5ECF6",
            "gridcolor": "white",
            "gridwidth": 2,
            "linecolor": "white",
            "showbackground": true,
            "ticks": "",
            "zerolinecolor": "white"
           },
           "zaxis": {
            "backgroundcolor": "#E5ECF6",
            "gridcolor": "white",
            "gridwidth": 2,
            "linecolor": "white",
            "showbackground": true,
            "ticks": "",
            "zerolinecolor": "white"
           }
          },
          "shapedefaults": {
           "line": {
            "color": "#2a3f5f"
           }
          },
          "ternary": {
           "aaxis": {
            "gridcolor": "white",
            "linecolor": "white",
            "ticks": ""
           },
           "baxis": {
            "gridcolor": "white",
            "linecolor": "white",
            "ticks": ""
           },
           "bgcolor": "#E5ECF6",
           "caxis": {
            "gridcolor": "white",
            "linecolor": "white",
            "ticks": ""
           }
          },
          "title": {
           "x": 0.05
          },
          "xaxis": {
           "automargin": true,
           "gridcolor": "white",
           "linecolor": "white",
           "ticks": "",
           "title": {
            "standoff": 15
           },
           "zerolinecolor": "white",
           "zerolinewidth": 2
          },
          "yaxis": {
           "automargin": true,
           "gridcolor": "white",
           "linecolor": "white",
           "ticks": "",
           "title": {
            "standoff": 15
           },
           "zerolinecolor": "white",
           "zerolinewidth": 2
          }
         }
        },
        "xaxis": {
         "anchor": "y",
         "domain": [
          0,
          0.45
         ],
         "title": {
          "text": "Epoch"
         }
        },
        "xaxis2": {
         "anchor": "y2",
         "domain": [
          0.55,
          1
         ],
         "title": {
          "text": "Epoch"
         }
        },
        "xaxis3": {
         "anchor": "y3",
         "domain": [
          0,
          0.45
         ]
        },
        "xaxis4": {
         "anchor": "y4",
         "domain": [
          0.55,
          1
         ]
        },
        "yaxis": {
         "anchor": "x",
         "domain": [
          0.625,
          1
         ],
         "range": [
          0,
          1
         ],
         "title": {
          "text": "Accuracy"
         }
        },
        "yaxis2": {
         "anchor": "x2",
         "domain": [
          0.625,
          1
         ],
         "range": [
          0,
          1
         ],
         "title": {
          "text": "Loss"
         }
        },
        "yaxis3": {
         "anchor": "x3",
         "domain": [
          0,
          0.375
         ]
        },
        "yaxis4": {
         "anchor": "x4",
         "domain": [
          0,
          0.375
         ]
        }
       }
      },
      "text/html": [
       "<div>\n",
       "        \n",
       "        \n",
       "            <div id=\"6c53260a-3af4-4767-821d-44d1636dda80\" class=\"plotly-graph-div\" style=\"height:525px; width:100%;\"></div>\n",
       "            <script type=\"text/javascript\">\n",
       "                require([\"plotly\"], function(Plotly) {\n",
       "                    window.PLOTLYENV=window.PLOTLYENV || {};\n",
       "                    \n",
       "                if (document.getElementById(\"6c53260a-3af4-4767-821d-44d1636dda80\")) {\n",
       "                    Plotly.newPlot(\n",
       "                        '6c53260a-3af4-4767-821d-44d1636dda80',\n",
       "                        [{\"marker\": {\"color\": \"#778899\"}, \"mode\": \"markers+lines\", \"name\": \"simple_cnn_rmsprop\", \"text\": [\"1\", \"2\", \"3\", \"4\", \"5\", \"6\", \"7\", \"8\", \"9\", \"10\", \"11\", \"12\", \"13\", \"14\", \"15\", \"16\", \"17\", \"18\", \"19\", \"20\", \"21\", \"22\", \"23\", \"24\", \"25\", \"26\", \"27\", \"28\", \"29\", \"30\", \"31\", \"32\", \"33\"], \"type\": \"scatter\", \"x\": [1, 2, 3, 4, 5, 6, 7, 8, 9, 10, 11, 12, 13, 14, 15, 16, 17, 18, 19, 20, 21, 22, 23, 24, 25, 26, 27, 28, 29, 30, 31, 32, 33], \"xaxis\": \"x\", \"y\": [0.6161166429519653, 0.757183313369751, 0.7922499775886536, 0.8149333596229553, 0.8312333226203918, 0.8460833430290222, 0.854116678237915, 0.8599166870117188, 0.8670666813850403, 0.8722333312034607, 0.8749499917030334, 0.8802000284194946, 0.8827333450317383, 0.885783314704895, 0.8859000205993652, 0.8886500000953674, 0.8920666575431824, 0.89451664686203, 0.8964166641235352, 0.8969500064849854, 0.8988333344459534, 0.9024999737739563, 0.9013333320617676, 0.9053666591644287, 0.9055833220481873, 0.9055666923522949, 0.9068833589553833, 0.9084833264350891, 0.9098666906356812, 0.9112333059310913, 0.9106166958808899, 0.912066638469696, 0.9139000177383423], \"yaxis\": \"y\"}, {\"marker\": {\"color\": \"#778899\"}, \"mode\": \"markers+lines\", \"name\": \"simple_cnn_rmsprop\", \"text\": [\"1\", \"2\", \"3\", \"4\", \"5\", \"6\", \"7\", \"8\", \"9\", \"10\", \"11\", \"12\", \"13\", \"14\", \"15\", \"16\", \"17\", \"18\", \"19\", \"20\", \"21\", \"22\", \"23\", \"24\", \"25\", \"26\", \"27\", \"28\", \"29\", \"30\", \"31\", \"32\", \"33\"], \"type\": \"scatter\", \"x\": [1, 2, 3, 4, 5, 6, 7, 8, 9, 10, 11, 12, 13, 14, 15, 16, 17, 18, 19, 20, 21, 22, 23, 24, 25, 26, 27, 28, 29, 30, 31, 32, 33], \"xaxis\": \"x2\", \"y\": [0.5842999815940857, 0.76419997215271, 0.7599999904632568, 0.7964000105857849, 0.8185999989509583, 0.7773000001907349, 0.7436000108718872, 0.8550999760627747, 0.7678999900817871, 0.8899000287055969, 0.8916000127792358, 0.866599977016449, 0.8964999914169312, 0.8791000247001648, 0.8406000137329102, 0.9046000242233276, 0.8966000080108643, 0.8956000208854675, 0.8794000148773193, 0.9064000248908997, 0.9027000069618225, 0.9068999886512756, 0.9032999873161316, 0.8410000205039978, 0.9110999703407288, 0.9039000272750854, 0.9068999886512756, 0.9207000136375427, 0.9196000099182129, 0.9117000102996826, 0.9154000282287598, 0.9002000093460083, 0.9003000259399414], \"yaxis\": \"y2\"}, {\"marker\": {\"color\": \"#778899\"}, \"mode\": \"markers+lines\", \"name\": \"simple_cnn_rmsprop\", \"text\": [\"1\", \"2\", \"3\", \"4\", \"5\", \"6\", \"7\", \"8\", \"9\", \"10\", \"11\", \"12\", \"13\", \"14\", \"15\", \"16\", \"17\", \"18\", \"19\", \"20\", \"21\", \"22\", \"23\", \"24\", \"25\", \"26\", \"27\", \"28\", \"29\", \"30\", \"31\", \"32\", \"33\"], \"type\": \"scatter\", \"x\": [1, 2, 3, 4, 5, 6, 7, 8, 9, 10, 11, 12, 13, 14, 15, 16, 17, 18, 19, 20, 21, 22, 23, 24, 25, 26, 27, 28, 29, 30, 31, 32, 33], \"xaxis\": \"x3\", \"y\": [1.0354429485003154, 0.6476353054682413, 0.5517076650619507, 0.49040464390118915, 0.446700649134318, 0.41341578663190204, 0.3855083314100901, 0.3689697161356608, 0.3545201791445414, 0.33989981179237366, 0.33241097100575767, 0.3204098209381104, 0.31196725474993386, 0.3051039533774058, 0.3013772781689962, 0.29434094812075295, 0.28737161978085835, 0.28222435262997947, 0.27654849712053936, 0.27080232288042705, 0.26883169949849445, 0.2627173536221186, 0.2601386858224869, 0.25549672372341153, 0.25350617396831515, 0.25242305075327554, 0.24735314249197643, 0.2456505227883657, 0.24092255907058716, 0.24041284670035043, 0.2370207018852234, 0.23584338901837668, 0.23034525504906972], \"yaxis\": \"y3\"}, {\"marker\": {\"color\": \"#778899\"}, \"mode\": \"markers+lines\", \"name\": \"simple_cnn_rmsprop\", \"text\": [\"1\", \"2\", \"3\", \"4\", \"5\", \"6\", \"7\", \"8\", \"9\", \"10\", \"11\", \"12\", \"13\", \"14\", \"15\", \"16\", \"17\", \"18\", \"19\", \"20\", \"21\", \"22\", \"23\", \"24\", \"25\", \"26\", \"27\", \"28\", \"29\", \"30\", \"31\", \"32\", \"33\"], \"type\": \"scatter\", \"x\": [1, 2, 3, 4, 5, 6, 7, 8, 9, 10, 11, 12, 13, 14, 15, 16, 17, 18, 19, 20, 21, 22, 23, 24, 25, 26, 27, 28, 29, 30, 31, 32, 33], \"xaxis\": \"x4\", \"y\": [1.7118710489834057, 1.4329174757003784, 1.279500389099121, 1.0637272596359253, 0.8764132380485534, 0.8095768570899964, 0.7563495755195617, 0.5166591882705689, 0.546364688873291, 0.35976959466934205, 0.3473589599132538, 0.3482598066329956, 0.2804427146911621, 0.3217811405658722, 0.40103175640106203, 0.2530932903289795, 0.2731193006038666, 0.2836712062358856, 0.3112697660923004, 0.2511810064315796, 0.26514732241630556, 0.2560632437467575, 0.26277884244918825, 0.4175388427341686, 0.24336400628089905, 0.26335269510746, 0.24990965723991393, 0.2173883855342865, 0.2224443644285202, 0.23853980302810668, 0.22717897295951844, 0.2572425067424774, 0.26811482310295104], \"yaxis\": \"y4\"}, {\"marker\": {\"color\": \"#66CDAA\"}, \"mode\": \"markers+lines\", \"name\": \"shuffle_netv2_rmsprop\", \"text\": [\"1\", \"2\", \"3\", \"4\", \"5\", \"6\", \"7\", \"8\", \"9\", \"10\", \"11\", \"12\", \"13\", \"14\", \"15\", \"16\", \"17\", \"18\", \"19\", \"20\", \"21\", \"22\", \"23\", \"24\"], \"type\": \"scatter\", \"x\": [1, 2, 3, 4, 5, 6, 7, 8, 9, 10, 11, 12, 13, 14, 15, 16, 17, 18, 19, 20, 21, 22, 23, 24], \"xaxis\": \"x\", \"y\": [0.747783362865448, 0.833216667175293, 0.8577333092689514, 0.8686333298683167, 0.8758500218391418, 0.8821666836738586, 0.8881833553314209, 0.8907333612442017, 0.8951833248138428, 0.8976666927337646, 0.897683322429657, 0.9028333425521851, 0.9038833379745483, 0.9058333039283752, 0.9068833589553833, 0.9085833430290222, 0.9090666770935059, 0.909766674041748, 0.9127833247184753, 0.9144499897956848, 0.9143999814987183, 0.9144666790962219, 0.9160500168800354, 0.9173333048820496], \"yaxis\": \"y\"}, {\"marker\": {\"color\": \"#66CDAA\"}, \"mode\": \"markers+lines\", \"name\": \"shuffle_netv2_rmsprop\", \"text\": [\"1\", \"2\", \"3\", \"4\", \"5\", \"6\", \"7\", \"8\", \"9\", \"10\", \"11\", \"12\", \"13\", \"14\", \"15\", \"16\", \"17\", \"18\", \"19\", \"20\", \"21\", \"22\", \"23\", \"24\"], \"type\": \"scatter\", \"x\": [1, 2, 3, 4, 5, 6, 7, 8, 9, 10, 11, 12, 13, 14, 15, 16, 17, 18, 19, 20, 21, 22, 23, 24], \"xaxis\": \"x2\", \"y\": [0.8019000291824341, 0.8654000163078308, 0.8952000141143799, 0.8888000249862671, 0.8762000203132629, 0.8985000252723694, 0.9049999713897705, 0.9114000201225281, 0.9115999937057495, 0.9185000061988831, 0.9057999849319458, 0.9143999814987183, 0.9135000109672546, 0.920799970626831, 0.909600019454956, 0.916700005531311, 0.920799970626831, 0.911899983882904, 0.925000011920929, 0.9186000227928162, 0.91839998960495, 0.9200000166893005, 0.9218000173568726, 0.9203000068664551], \"yaxis\": \"y2\"}, {\"marker\": {\"color\": \"#66CDAA\"}, \"mode\": \"markers+lines\", \"name\": \"shuffle_netv2_rmsprop\", \"text\": [\"1\", \"2\", \"3\", \"4\", \"5\", \"6\", \"7\", \"8\", \"9\", \"10\", \"11\", \"12\", \"13\", \"14\", \"15\", \"16\", \"17\", \"18\", \"19\", \"20\", \"21\", \"22\", \"23\", \"24\"], \"type\": \"scatter\", \"x\": [1, 2, 3, 4, 5, 6, 7, 8, 9, 10, 11, 12, 13, 14, 15, 16, 17, 18, 19, 20, 21, 22, 23, 24], \"xaxis\": \"x3\", \"y\": [0.6750671830177307, 0.4384919999440511, 0.37812946219444277, 0.3466321491400401, 0.32925768407185874, 0.3114741411844889, 0.29751242095629377, 0.29200854454040526, 0.28220630348523457, 0.2736803467671076, 0.2710037870883942, 0.2625896297295888, 0.2576269252300262, 0.25361472396055856, 0.24830906908512115, 0.24587113717397055, 0.24105498032569886, 0.2396677964925766, 0.23549409775733948, 0.2299082764943441, 0.2302382370551427, 0.22925250510374706, 0.22425619044303893, 0.22369808872540792], \"yaxis\": \"y3\"}, {\"marker\": {\"color\": \"#66CDAA\"}, \"mode\": \"markers+lines\", \"name\": \"shuffle_netv2_rmsprop\", \"text\": [\"1\", \"2\", \"3\", \"4\", \"5\", \"6\", \"7\", \"8\", \"9\", \"10\", \"11\", \"12\", \"13\", \"14\", \"15\", \"16\", \"17\", \"18\", \"19\", \"20\", \"21\", \"22\", \"23\", \"24\"], \"type\": \"scatter\", \"x\": [1, 2, 3, 4, 5, 6, 7, 8, 9, 10, 11, 12, 13, 14, 15, 16, 17, 18, 19, 20, 21, 22, 23, 24], \"xaxis\": \"x4\", \"y\": [0.565778934955597, 0.36450685411691663, 0.2921391654759645, 0.31421287581324575, 0.34977475702762606, 0.2723255820572376, 0.2553035460412502, 0.24610970169305801, 0.2366652764379978, 0.232252212241292, 0.2565806843340397, 0.2281730156391859, 0.22654010467231273, 0.217636988312006, 0.24983613714575767, 0.21967866811901332, 0.21111573204398154, 0.23506970405578614, 0.20512900073081256, 0.21955319717526436, 0.21478722896426916, 0.21248393058776854, 0.21189671903848648, 0.216927694901824], \"yaxis\": \"y4\"}, {\"marker\": {\"color\": \"#00FFFF\"}, \"mode\": \"markers+lines\", \"name\": \"simple_cnn_adam\", \"text\": [\"1\", \"2\", \"3\", \"4\", \"5\", \"6\", \"7\", \"8\", \"9\", \"10\", \"11\", \"12\", \"13\", \"14\", \"15\", \"16\", \"17\", \"18\", \"19\", \"20\", \"21\", \"22\", \"23\", \"24\", \"25\", \"26\", \"27\", \"28\", \"29\"], \"type\": \"scatter\", \"x\": [1, 2, 3, 4, 5, 6, 7, 8, 9, 10, 11, 12, 13, 14, 15, 16, 17, 18, 19, 20, 21, 22, 23, 24, 25, 26, 27, 28, 29], \"xaxis\": \"x\", \"y\": [0.6420333385467529, 0.7788833379745483, 0.8127333521842957, 0.8324000239372253, 0.8460000157356262, 0.8559666872024536, 0.8636333346366882, 0.87131667137146, 0.8747000098228455, 0.879883348941803, 0.8828999996185303, 0.885783314704895, 0.887066662311554, 0.8921666741371155, 0.895383358001709, 0.8968999981880188, 0.8947499990463257, 0.8997666835784912, 0.9012333154678345, 0.9052333235740662, 0.9018999934196472, 0.9059500098228455, 0.9056000113487244, 0.9078999757766724, 0.9101999998092651, 0.9095500111579895, 0.9107833504676819, 0.9114999771118164, 0.911133348941803], \"yaxis\": \"y\"}, {\"marker\": {\"color\": \"#00FFFF\"}, \"mode\": \"markers+lines\", \"name\": \"simple_cnn_adam\", \"text\": [\"1\", \"2\", \"3\", \"4\", \"5\", \"6\", \"7\", \"8\", \"9\", \"10\", \"11\", \"12\", \"13\", \"14\", \"15\", \"16\", \"17\", \"18\", \"19\", \"20\", \"21\", \"22\", \"23\", \"24\", \"25\", \"26\", \"27\", \"28\", \"29\"], \"type\": \"scatter\", \"x\": [1, 2, 3, 4, 5, 6, 7, 8, 9, 10, 11, 12, 13, 14, 15, 16, 17, 18, 19, 20, 21, 22, 23, 24, 25, 26, 27, 28, 29], \"xaxis\": \"x2\", \"y\": [0.6967999935150146, 0.7574999928474426, 0.7813000082969666, 0.7810999751091003, 0.828000009059906, 0.8353000283241272, 0.8334000110626221, 0.8087999820709229, 0.8652999997138977, 0.8833000063896179, 0.8898000121116638, 0.8906999826431274, 0.8952999711036682, 0.8948000073432922, 0.8967000246047974, 0.8980000019073486, 0.9068999886512756, 0.9021000266075134, 0.9111999869346619, 0.887499988079071, 0.9139000177383423, 0.9161999821662903, 0.9143999814987183, 0.921999990940094, 0.9194999933242798, 0.9111999869346619, 0.9182000160217285, 0.9200000166893005, 0.9197999835014343], \"yaxis\": \"y2\"}, {\"marker\": {\"color\": \"#00FFFF\"}, \"mode\": \"markers+lines\", \"name\": \"simple_cnn_adam\", \"text\": [\"1\", \"2\", \"3\", \"4\", \"5\", \"6\", \"7\", \"8\", \"9\", \"10\", \"11\", \"12\", \"13\", \"14\", \"15\", \"16\", \"17\", \"18\", \"19\", \"20\", \"21\", \"22\", \"23\", \"24\", \"25\", \"26\", \"27\", \"28\", \"29\"], \"type\": \"scatter\", \"x\": [1, 2, 3, 4, 5, 6, 7, 8, 9, 10, 11, 12, 13, 14, 15, 16, 17, 18, 19, 20, 21, 22, 23, 24, 25, 26, 27, 28, 29], \"xaxis\": \"x3\", \"y\": [0.9981163371404012, 0.5892828639984131, 0.49694317639668784, 0.4484834097703298, 0.41073050944010414, 0.3835107878526052, 0.3640803693453471, 0.34410456363360087, 0.3332415378888448, 0.3187689795176188, 0.3108287743250529, 0.30551428739229836, 0.2999297448794047, 0.2881881618817647, 0.2805037334283193, 0.2789269724686941, 0.2777994586149852, 0.26807821877797444, 0.2649917148907979, 0.25762552742958067, 0.2631870911280314, 0.2558603324731191, 0.2536216857592265, 0.2495336924950282, 0.23900120905240377, 0.2429496989250183, 0.23944179700215656, 0.23866148305733997, 0.23458638326327005], \"yaxis\": \"y3\"}, {\"marker\": {\"color\": \"#00FFFF\"}, \"mode\": \"markers+lines\", \"name\": \"simple_cnn_adam\", \"text\": [\"1\", \"2\", \"3\", \"4\", \"5\", \"6\", \"7\", \"8\", \"9\", \"10\", \"11\", \"12\", \"13\", \"14\", \"15\", \"16\", \"17\", \"18\", \"19\", \"20\", \"21\", \"22\", \"23\", \"24\", \"25\", \"26\", \"27\", \"28\", \"29\"], \"type\": \"scatter\", \"x\": [1, 2, 3, 4, 5, 6, 7, 8, 9, 10, 11, 12, 13, 14, 15, 16, 17, 18, 19, 20, 21, 22, 23, 24, 25, 26, 27, 28, 29], \"xaxis\": \"x4\", \"y\": [1.4501134395599364, 1.4673231601715089, 1.3547962427139282, 1.2837965488433838, 1.122812819480896, 1.088962459564209, 0.8324569821357727, 0.7105440974235535, 0.6168687105178833, 0.5336798906326294, 0.44867132902145385, 0.3753198146820068, 0.33168708682060244, 0.32871357202529905, 0.3051954090595245, 0.28684616527136636, 0.2620928078889847, 0.2620734363794327, 0.24815311133861542, 0.29119153022766114, 0.23413734138011932, 0.2366507738828659, 0.23078011572360993, 0.213772514462471, 0.2206717997789383, 0.23652658462524415, 0.22385961711406707, 0.21856103837490082, 0.22076256275177003], \"yaxis\": \"y4\"}, {\"marker\": {\"color\": \"#708090\"}, \"mode\": \"markers+lines\", \"name\": \"shuffle_netv2_adam\", \"text\": [\"1\", \"2\", \"3\", \"4\", \"5\", \"6\", \"7\", \"8\", \"9\", \"10\", \"11\", \"12\", \"13\", \"14\", \"15\", \"16\", \"17\", \"18\", \"19\", \"20\", \"21\", \"22\", \"23\"], \"type\": \"scatter\", \"x\": [1, 2, 3, 4, 5, 6, 7, 8, 9, 10, 11, 12, 13, 14, 15, 16, 17, 18, 19, 20, 21, 22, 23], \"xaxis\": \"x\", \"y\": [0.7527333498001099, 0.8306833505630493, 0.8535333275794983, 0.8652166724205017, 0.8732333183288574, 0.8792333602905273, 0.8845000267028809, 0.8882833123207092, 0.8913166522979736, 0.8941500186920166, 0.895466685295105, 0.8978166580200195, 0.8987666964530945, 0.901199996471405, 0.9027500152587891, 0.9046499729156494, 0.904366672039032, 0.9059833288192749, 0.9071333408355713, 0.9092666506767273, 0.9108666777610779, 0.9112833142280579, 0.9127166867256165], \"yaxis\": \"y\"}, {\"marker\": {\"color\": \"#708090\"}, \"mode\": \"markers+lines\", \"name\": \"shuffle_netv2_adam\", \"text\": [\"1\", \"2\", \"3\", \"4\", \"5\", \"6\", \"7\", \"8\", \"9\", \"10\", \"11\", \"12\", \"13\", \"14\", \"15\", \"16\", \"17\", \"18\", \"19\", \"20\", \"21\", \"22\", \"23\"], \"type\": \"scatter\", \"x\": [1, 2, 3, 4, 5, 6, 7, 8, 9, 10, 11, 12, 13, 14, 15, 16, 17, 18, 19, 20, 21, 22, 23], \"xaxis\": \"x2\", \"y\": [0.8202999830245972, 0.8651999831199646, 0.8741999864578247, 0.8895999789237976, 0.8953999876976013, 0.8981000185012817, 0.9078999757766724, 0.9049999713897705, 0.8959000110626221, 0.9090999960899353, 0.9139000177383423, 0.9083999991416931, 0.9136000275611877, 0.913100004196167, 0.9157999753952026, 0.9136000275611877, 0.9132000207901001, 0.9199000000953674, 0.9169999957084656, 0.9154000282287598, 0.9128999710083008, 0.9174000024795532, 0.9176999926567078], \"yaxis\": \"y2\"}, {\"marker\": {\"color\": \"#708090\"}, \"mode\": \"markers+lines\", \"name\": \"shuffle_netv2_adam\", \"text\": [\"1\", \"2\", \"3\", \"4\", \"5\", \"6\", \"7\", \"8\", \"9\", \"10\", \"11\", \"12\", \"13\", \"14\", \"15\", \"16\", \"17\", \"18\", \"19\", \"20\", \"21\", \"22\", \"23\"], \"type\": \"scatter\", \"x\": [1, 2, 3, 4, 5, 6, 7, 8, 9, 10, 11, 12, 13, 14, 15, 16, 17, 18, 19, 20, 21, 22, 23], \"xaxis\": \"x3\", \"y\": [0.6537974143028259, 0.449850829299291, 0.3914145040353139, 0.3568777087370555, 0.33497489205996195, 0.3188882864634196, 0.3087316837946574, 0.2987870208740234, 0.2896532576560974, 0.2853583636045456, 0.2803478567679723, 0.2726943576494853, 0.2698678038279215, 0.26430046457449596, 0.25820192490418753, 0.25546088461875915, 0.25261115725040434, 0.25154451451301574, 0.24646634817123414, 0.2445060378074646, 0.24116162246068318, 0.23918490942319234, 0.23257625558376313], \"yaxis\": \"y3\"}, {\"marker\": {\"color\": \"#708090\"}, \"mode\": \"markers+lines\", \"name\": \"shuffle_netv2_adam\", \"text\": [\"1\", \"2\", \"3\", \"4\", \"5\", \"6\", \"7\", \"8\", \"9\", \"10\", \"11\", \"12\", \"13\", \"14\", \"15\", \"16\", \"17\", \"18\", \"19\", \"20\", \"21\", \"22\", \"23\"], \"type\": \"scatter\", \"x\": [1, 2, 3, 4, 5, 6, 7, 8, 9, 10, 11, 12, 13, 14, 15, 16, 17, 18, 19, 20, 21, 22, 23], \"xaxis\": \"x4\", \"y\": [0.5097837746143341, 0.3782227925956249, 0.33762593790888784, 0.29880352653563025, 0.27804866917431353, 0.274825494363904, 0.25946443527936935, 0.2628546591848135, 0.2794890470802784, 0.2553169261664152, 0.2323583669960499, 0.25276485420763495, 0.2334801610559225, 0.23487081080675126, 0.22564718946814538, 0.229355444945395, 0.23273058012127876, 0.21474069859832526, 0.2239222152158618, 0.2314873491014753, 0.23195515759289265, 0.2189366387203336, 0.2226755555719137], \"yaxis\": \"y4\"}],\n",
       "                        {\"annotations\": [{\"font\": {\"size\": 16}, \"showarrow\": false, \"text\": \"Training accuracy\", \"x\": 0.225, \"xanchor\": \"center\", \"xref\": \"paper\", \"y\": 1.0, \"yanchor\": \"bottom\", \"yref\": \"paper\"}, {\"font\": {\"size\": 16}, \"showarrow\": false, \"text\": \"Validation accuracy\", \"x\": 0.775, \"xanchor\": \"center\", \"xref\": \"paper\", \"y\": 1.0, \"yanchor\": \"bottom\", \"yref\": \"paper\"}, {\"font\": {\"size\": 16}, \"showarrow\": false, \"text\": \"Training loss \", \"x\": 0.225, \"xanchor\": \"center\", \"xref\": \"paper\", \"y\": 0.375, \"yanchor\": \"bottom\", \"yref\": \"paper\"}, {\"font\": {\"size\": 16}, \"showarrow\": false, \"text\": \"Validation loss\", \"x\": 0.775, \"xanchor\": \"center\", \"xref\": \"paper\", \"y\": 0.375, \"yanchor\": \"bottom\", \"yref\": \"paper\"}], \"template\": {\"data\": {\"bar\": [{\"error_x\": {\"color\": \"#2a3f5f\"}, \"error_y\": {\"color\": \"#2a3f5f\"}, \"marker\": {\"line\": {\"color\": \"#E5ECF6\", \"width\": 0.5}}, \"type\": \"bar\"}], \"barpolar\": [{\"marker\": {\"line\": {\"color\": \"#E5ECF6\", \"width\": 0.5}}, \"type\": \"barpolar\"}], \"carpet\": [{\"aaxis\": {\"endlinecolor\": \"#2a3f5f\", \"gridcolor\": \"white\", \"linecolor\": \"white\", \"minorgridcolor\": \"white\", \"startlinecolor\": \"#2a3f5f\"}, \"baxis\": {\"endlinecolor\": \"#2a3f5f\", \"gridcolor\": \"white\", \"linecolor\": \"white\", \"minorgridcolor\": \"white\", \"startlinecolor\": \"#2a3f5f\"}, \"type\": \"carpet\"}], \"choropleth\": [{\"colorbar\": {\"outlinewidth\": 0, \"ticks\": \"\"}, \"type\": \"choropleth\"}], \"contour\": [{\"colorbar\": {\"outlinewidth\": 0, \"ticks\": \"\"}, \"colorscale\": [[0.0, \"#0d0887\"], [0.1111111111111111, \"#46039f\"], [0.2222222222222222, \"#7201a8\"], [0.3333333333333333, \"#9c179e\"], [0.4444444444444444, \"#bd3786\"], [0.5555555555555556, \"#d8576b\"], [0.6666666666666666, \"#ed7953\"], [0.7777777777777778, \"#fb9f3a\"], [0.8888888888888888, \"#fdca26\"], [1.0, \"#f0f921\"]], \"type\": \"contour\"}], \"contourcarpet\": [{\"colorbar\": {\"outlinewidth\": 0, \"ticks\": \"\"}, \"type\": \"contourcarpet\"}], \"heatmap\": [{\"colorbar\": {\"outlinewidth\": 0, \"ticks\": \"\"}, \"colorscale\": [[0.0, \"#0d0887\"], [0.1111111111111111, \"#46039f\"], [0.2222222222222222, \"#7201a8\"], [0.3333333333333333, \"#9c179e\"], [0.4444444444444444, \"#bd3786\"], [0.5555555555555556, \"#d8576b\"], [0.6666666666666666, \"#ed7953\"], [0.7777777777777778, \"#fb9f3a\"], [0.8888888888888888, \"#fdca26\"], [1.0, \"#f0f921\"]], \"type\": \"heatmap\"}], \"heatmapgl\": [{\"colorbar\": {\"outlinewidth\": 0, \"ticks\": \"\"}, \"colorscale\": [[0.0, \"#0d0887\"], [0.1111111111111111, \"#46039f\"], [0.2222222222222222, \"#7201a8\"], [0.3333333333333333, \"#9c179e\"], [0.4444444444444444, \"#bd3786\"], [0.5555555555555556, \"#d8576b\"], [0.6666666666666666, \"#ed7953\"], [0.7777777777777778, \"#fb9f3a\"], [0.8888888888888888, \"#fdca26\"], [1.0, \"#f0f921\"]], \"type\": \"heatmapgl\"}], \"histogram\": [{\"marker\": {\"colorbar\": {\"outlinewidth\": 0, \"ticks\": \"\"}}, \"type\": \"histogram\"}], \"histogram2d\": [{\"colorbar\": {\"outlinewidth\": 0, \"ticks\": \"\"}, \"colorscale\": [[0.0, \"#0d0887\"], [0.1111111111111111, \"#46039f\"], [0.2222222222222222, \"#7201a8\"], [0.3333333333333333, \"#9c179e\"], [0.4444444444444444, \"#bd3786\"], [0.5555555555555556, \"#d8576b\"], [0.6666666666666666, \"#ed7953\"], [0.7777777777777778, \"#fb9f3a\"], [0.8888888888888888, \"#fdca26\"], [1.0, \"#f0f921\"]], \"type\": \"histogram2d\"}], \"histogram2dcontour\": [{\"colorbar\": {\"outlinewidth\": 0, \"ticks\": \"\"}, \"colorscale\": [[0.0, \"#0d0887\"], [0.1111111111111111, \"#46039f\"], [0.2222222222222222, \"#7201a8\"], [0.3333333333333333, \"#9c179e\"], [0.4444444444444444, \"#bd3786\"], [0.5555555555555556, \"#d8576b\"], [0.6666666666666666, \"#ed7953\"], [0.7777777777777778, \"#fb9f3a\"], [0.8888888888888888, \"#fdca26\"], [1.0, \"#f0f921\"]], \"type\": \"histogram2dcontour\"}], \"mesh3d\": [{\"colorbar\": {\"outlinewidth\": 0, \"ticks\": \"\"}, \"type\": \"mesh3d\"}], \"parcoords\": [{\"line\": {\"colorbar\": {\"outlinewidth\": 0, \"ticks\": \"\"}}, \"type\": \"parcoords\"}], \"pie\": [{\"automargin\": true, \"type\": \"pie\"}], \"scatter\": [{\"marker\": {\"colorbar\": {\"outlinewidth\": 0, \"ticks\": \"\"}}, \"type\": \"scatter\"}], \"scatter3d\": [{\"line\": {\"colorbar\": {\"outlinewidth\": 0, \"ticks\": \"\"}}, \"marker\": {\"colorbar\": {\"outlinewidth\": 0, \"ticks\": \"\"}}, \"type\": \"scatter3d\"}], \"scattercarpet\": [{\"marker\": {\"colorbar\": {\"outlinewidth\": 0, \"ticks\": \"\"}}, \"type\": \"scattercarpet\"}], \"scattergeo\": [{\"marker\": {\"colorbar\": {\"outlinewidth\": 0, \"ticks\": \"\"}}, \"type\": \"scattergeo\"}], \"scattergl\": [{\"marker\": {\"colorbar\": {\"outlinewidth\": 0, \"ticks\": \"\"}}, \"type\": \"scattergl\"}], \"scattermapbox\": [{\"marker\": {\"colorbar\": {\"outlinewidth\": 0, \"ticks\": \"\"}}, \"type\": \"scattermapbox\"}], \"scatterpolar\": [{\"marker\": {\"colorbar\": {\"outlinewidth\": 0, \"ticks\": \"\"}}, \"type\": \"scatterpolar\"}], \"scatterpolargl\": [{\"marker\": {\"colorbar\": {\"outlinewidth\": 0, \"ticks\": \"\"}}, \"type\": \"scatterpolargl\"}], \"scatterternary\": [{\"marker\": {\"colorbar\": {\"outlinewidth\": 0, \"ticks\": \"\"}}, \"type\": \"scatterternary\"}], \"surface\": [{\"colorbar\": {\"outlinewidth\": 0, \"ticks\": \"\"}, \"colorscale\": [[0.0, \"#0d0887\"], [0.1111111111111111, \"#46039f\"], [0.2222222222222222, \"#7201a8\"], [0.3333333333333333, \"#9c179e\"], [0.4444444444444444, \"#bd3786\"], [0.5555555555555556, \"#d8576b\"], [0.6666666666666666, \"#ed7953\"], [0.7777777777777778, \"#fb9f3a\"], [0.8888888888888888, \"#fdca26\"], [1.0, \"#f0f921\"]], \"type\": \"surface\"}], \"table\": [{\"cells\": {\"fill\": {\"color\": \"#EBF0F8\"}, \"line\": {\"color\": \"white\"}}, \"header\": {\"fill\": {\"color\": \"#C8D4E3\"}, \"line\": {\"color\": \"white\"}}, \"type\": \"table\"}]}, \"layout\": {\"annotationdefaults\": {\"arrowcolor\": \"#2a3f5f\", \"arrowhead\": 0, \"arrowwidth\": 1}, \"coloraxis\": {\"colorbar\": {\"outlinewidth\": 0, \"ticks\": \"\"}}, \"colorscale\": {\"diverging\": [[0, \"#8e0152\"], [0.1, \"#c51b7d\"], [0.2, \"#de77ae\"], [0.3, \"#f1b6da\"], [0.4, \"#fde0ef\"], [0.5, \"#f7f7f7\"], [0.6, \"#e6f5d0\"], [0.7, \"#b8e186\"], [0.8, \"#7fbc41\"], [0.9, \"#4d9221\"], [1, \"#276419\"]], \"sequential\": [[0.0, \"#0d0887\"], [0.1111111111111111, \"#46039f\"], [0.2222222222222222, \"#7201a8\"], [0.3333333333333333, \"#9c179e\"], [0.4444444444444444, \"#bd3786\"], [0.5555555555555556, \"#d8576b\"], [0.6666666666666666, \"#ed7953\"], [0.7777777777777778, \"#fb9f3a\"], [0.8888888888888888, \"#fdca26\"], [1.0, \"#f0f921\"]], \"sequentialminus\": [[0.0, \"#0d0887\"], [0.1111111111111111, \"#46039f\"], [0.2222222222222222, \"#7201a8\"], [0.3333333333333333, \"#9c179e\"], [0.4444444444444444, \"#bd3786\"], [0.5555555555555556, \"#d8576b\"], [0.6666666666666666, \"#ed7953\"], [0.7777777777777778, \"#fb9f3a\"], [0.8888888888888888, \"#fdca26\"], [1.0, \"#f0f921\"]]}, \"colorway\": [\"#636efa\", \"#EF553B\", \"#00cc96\", \"#ab63fa\", \"#FFA15A\", \"#19d3f3\", \"#FF6692\", \"#B6E880\", \"#FF97FF\", \"#FECB52\"], \"font\": {\"color\": \"#2a3f5f\"}, \"geo\": {\"bgcolor\": \"white\", \"lakecolor\": \"white\", \"landcolor\": \"#E5ECF6\", \"showlakes\": true, \"showland\": true, \"subunitcolor\": \"white\"}, \"hoverlabel\": {\"align\": \"left\"}, \"hovermode\": \"closest\", \"mapbox\": {\"style\": \"light\"}, \"paper_bgcolor\": \"white\", \"plot_bgcolor\": \"#E5ECF6\", \"polar\": {\"angularaxis\": {\"gridcolor\": \"white\", \"linecolor\": \"white\", \"ticks\": \"\"}, \"bgcolor\": \"#E5ECF6\", \"radialaxis\": {\"gridcolor\": \"white\", \"linecolor\": \"white\", \"ticks\": \"\"}}, \"scene\": {\"xaxis\": {\"backgroundcolor\": \"#E5ECF6\", \"gridcolor\": \"white\", \"gridwidth\": 2, \"linecolor\": \"white\", \"showbackground\": true, \"ticks\": \"\", \"zerolinecolor\": \"white\"}, \"yaxis\": {\"backgroundcolor\": \"#E5ECF6\", \"gridcolor\": \"white\", \"gridwidth\": 2, \"linecolor\": \"white\", \"showbackground\": true, \"ticks\": \"\", \"zerolinecolor\": \"white\"}, \"zaxis\": {\"backgroundcolor\": \"#E5ECF6\", \"gridcolor\": \"white\", \"gridwidth\": 2, \"linecolor\": \"white\", \"showbackground\": true, \"ticks\": \"\", \"zerolinecolor\": \"white\"}}, \"shapedefaults\": {\"line\": {\"color\": \"#2a3f5f\"}}, \"ternary\": {\"aaxis\": {\"gridcolor\": \"white\", \"linecolor\": \"white\", \"ticks\": \"\"}, \"baxis\": {\"gridcolor\": \"white\", \"linecolor\": \"white\", \"ticks\": \"\"}, \"bgcolor\": \"#E5ECF6\", \"caxis\": {\"gridcolor\": \"white\", \"linecolor\": \"white\", \"ticks\": \"\"}}, \"title\": {\"x\": 0.05}, \"xaxis\": {\"automargin\": true, \"gridcolor\": \"white\", \"linecolor\": \"white\", \"ticks\": \"\", \"title\": {\"standoff\": 15}, \"zerolinecolor\": \"white\", \"zerolinewidth\": 2}, \"yaxis\": {\"automargin\": true, \"gridcolor\": \"white\", \"linecolor\": \"white\", \"ticks\": \"\", \"title\": {\"standoff\": 15}, \"zerolinecolor\": \"white\", \"zerolinewidth\": 2}}}, \"xaxis\": {\"anchor\": \"y\", \"domain\": [0.0, 0.45], \"title\": {\"text\": \"Epoch\"}}, \"xaxis2\": {\"anchor\": \"y2\", \"domain\": [0.55, 1.0], \"title\": {\"text\": \"Epoch\"}}, \"xaxis3\": {\"anchor\": \"y3\", \"domain\": [0.0, 0.45]}, \"xaxis4\": {\"anchor\": \"y4\", \"domain\": [0.55, 1.0]}, \"yaxis\": {\"anchor\": \"x\", \"domain\": [0.625, 1.0], \"range\": [0, 1], \"title\": {\"text\": \"Accuracy\"}}, \"yaxis2\": {\"anchor\": \"x2\", \"domain\": [0.625, 1.0], \"range\": [0, 1], \"title\": {\"text\": \"Loss\"}}, \"yaxis3\": {\"anchor\": \"x3\", \"domain\": [0.0, 0.375]}, \"yaxis4\": {\"anchor\": \"x4\", \"domain\": [0.0, 0.375]}},\n",
       "                        {\"responsive\": true}\n",
       "                    ).then(function(){\n",
       "                            \n",
       "var gd = document.getElementById('6c53260a-3af4-4767-821d-44d1636dda80');\n",
       "var x = new MutationObserver(function (mutations, observer) {{\n",
       "        var display = window.getComputedStyle(gd).display;\n",
       "        if (!display || display === 'none') {{\n",
       "            console.log([gd, 'removed!']);\n",
       "            Plotly.purge(gd);\n",
       "            observer.disconnect();\n",
       "        }}\n",
       "}});\n",
       "\n",
       "// Listen for the removal of the full notebook cells\n",
       "var notebookContainer = gd.closest('#notebook-container');\n",
       "if (notebookContainer) {{\n",
       "    x.observe(notebookContainer, {childList: true});\n",
       "}}\n",
       "\n",
       "// Listen for the clearing of the current output cell\n",
       "var outputEl = gd.closest('.output');\n",
       "if (outputEl) {{\n",
       "    x.observe(outputEl, {childList: true});\n",
       "}}\n",
       "\n",
       "                        })\n",
       "                };\n",
       "                });\n",
       "            </script>\n",
       "        </div>"
      ]
     },
     "metadata": {},
     "output_type": "display_data"
    }
   ],
   "source": [
    "plot_accuracy_and_loss(histories)"
   ]
  },
  {
   "cell_type": "code",
   "execution_count": null,
   "metadata": {},
   "outputs": [],
   "source": []
  }
 ],
 "metadata": {
  "kernelspec": {
   "display_name": "Python 3",
   "language": "python",
   "name": "python3"
  },
  "language_info": {
   "codemirror_mode": {
    "name": "ipython",
    "version": 3
   },
   "file_extension": ".py",
   "mimetype": "text/x-python",
   "name": "python",
   "nbconvert_exporter": "python",
   "pygments_lexer": "ipython3",
   "version": "3.6.9"
  }
 },
 "nbformat": 4,
 "nbformat_minor": 1
}
