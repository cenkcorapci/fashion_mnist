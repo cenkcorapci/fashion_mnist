{
 "cells": [
  {
   "cell_type": "markdown",
   "metadata": {},
   "source": [
    "## Loading Imports"
   ]
  },
  {
   "cell_type": "code",
   "execution_count": 1,
   "metadata": {
    "_cell_guid": "2c3412a4-039b-4229-9387-9321169f16eb",
    "_uuid": "8def9627e9d48b26de3159fc9a2ec38e854ab16e"
   },
   "outputs": [
    {
     "name": "stderr",
     "output_type": "stream",
     "text": [
      "2019-12-19 22:30:06,759 : INFO : Checking/creating directories...\n",
      "2019-12-19 22:30:06,760 : INFO : Directories are set.\n"
     ]
    },
    {
     "data": {
      "text/html": [
       "        <script type=\"text/javascript\">\n",
       "        window.PlotlyConfig = {MathJaxConfig: 'local'};\n",
       "        if (window.MathJax) {MathJax.Hub.Config({SVG: {font: \"STIX-Web\"}});}\n",
       "        if (typeof require !== 'undefined') {\n",
       "        require.undef(\"plotly\");\n",
       "        requirejs.config({\n",
       "            paths: {\n",
       "                'plotly': ['https://cdn.plot.ly/plotly-latest.min']\n",
       "            }\n",
       "        });\n",
       "        require(['plotly'], function(Plotly) {\n",
       "            window._Plotly = Plotly;\n",
       "        });\n",
       "        }\n",
       "        </script>\n",
       "        "
      ]
     },
     "metadata": {},
     "output_type": "display_data"
    }
   ],
   "source": [
    "from dl.simple_cnn import SimpleCNN\n",
    "from dl.shuffle_net import ShuffleNetV2\n",
    "from dl.mobile_net import MobileNET\n",
    "from dl.wide_resnet import WideResNet\n",
    "from dl.capsule_net import CapsuleNet\n",
    "from dl.callbacks.plot_loss import PlotLosses\n",
    "from data.data_set import get_data\n",
    "from tensorflow.keras.preprocessing.image import ImageDataGenerator\n",
    "from tensorflow.keras.optimizers import RMSprop, Adam\n",
    "from tensorflow.keras.callbacks import ReduceLROnPlateau, TerminateOnNaN, EarlyStopping, ModelCheckpoint, TensorBoard\n",
    "from config import DL_MODELS_PATH, TB_LOGS_PATH\n",
    "import os\n",
    "import matplotlib.pyplot as plt\n",
    "import numpy as np\n",
    "import pathlib\n",
    "from swa.tfkeras import SWA\n",
    "from dl.callbacks.cyclical_lr import CyclicLR\n",
    "from plotly.offline import init_notebook_mode\n",
    "from visualization.visualize_history import plot_accuracy_and_loss\n",
    "\n",
    "init_notebook_mode(connected=True)"
   ]
  },
  {
   "cell_type": "markdown",
   "metadata": {},
   "source": [
    "## Loading Data Set"
   ]
  },
  {
   "cell_type": "code",
   "execution_count": 2,
   "metadata": {},
   "outputs": [
    {
     "data": {
      "text/plain": [
       "(60000, 10000)"
      ]
     },
     "execution_count": 2,
     "metadata": {},
     "output_type": "execute_result"
    }
   ],
   "source": [
    "((X_train, y_train), (X_val, y_val)) = get_data()\n",
    "len(X_train), len(X_val)"
   ]
  },
  {
   "cell_type": "markdown",
   "metadata": {},
   "source": [
    "## Adding Augmentations"
   ]
  },
  {
   "cell_type": "code",
   "execution_count": null,
   "metadata": {},
   "outputs": [],
   "source": [
    "data_generator = ImageDataGenerator(\n",
    "        featurewise_center=False,  # set input mean to 0 over the dataset\n",
    "        samplewise_center=False,  # set each sample mean to 0\n",
    "        featurewise_std_normalization=False,  # divide inputs by std of the dataset\n",
    "        samplewise_std_normalization=False,  # divide each input by its std\n",
    "        zca_whitening=False,  # apply ZCA whitening\n",
    "        rotation_range= .8,  # randomly rotate images in the range (degrees, 0 to 180)\n",
    "        zoom_range = .1, # Randomly zoom image \n",
    "        width_shift_range= .1,  # randomly shift images horizontally (fraction of total width)\n",
    "        height_shift_range= .1,  # randomly shift images vertically (fraction of total height)\n",
    "        horizontal_flip=.05,  # randomly flip images horizontally\n",
    "        vertical_flip=False)  # randomly flip images vertically"
   ]
  },
  {
   "cell_type": "markdown",
   "metadata": {},
   "source": [
    "## Generating Callbacks"
   ]
  },
  {
   "cell_type": "code",
   "execution_count": null,
   "metadata": {},
   "outputs": [],
   "source": [
    "def get_callbacks(model_name, use_cyclic_lr=False, plot=False):\n",
    "    # Terminate when math errors occur\n",
    "    callbacks = [TerminateOnNaN(), EarlyStopping(monitor='val_accuracy', patience=5)]\n",
    "    # Save checkpoint in every epoch\n",
    "    callbacks.append(ModelCheckpoint(os.path.join(DL_MODELS_PATH, model_name + '-{epoch:02d}-{val_accuracy:.2f}.hdf5'), monitor='val_categorical_accuracy', verbose=1, save_best_only=True, mode='max'))\n",
    "    # Use tensorboard as metrics\n",
    "    tb_path = os.path.join(TB_LOGS_PATH, model_name)\n",
    "    pathlib.Path(tb_path).mkdir(parents=True, exist_ok=True)\n",
    "    callbacks.append(TensorBoard(log_dir=tb_path))\n",
    "    # https://arxiv.org/abs/1803.05407\n",
    "    callbacks.append(SWA(start_epoch=5, lr_schedule='constant', swa_lr=0.001, verbose=1))\n",
    "    if plot:\n",
    "        callbacks.append(PlotLosses()) # Plots metrics inside Jupyter\n",
    "    if use_cyclic_lr:\n",
    "        # https://arxiv.org/abs/1506.01186\n",
    "        callbacks.append(CyclicLR(base_lr=0.001, max_lr=0.006, step_size=2000.))\n",
    "    else:\n",
    "        # Progressively reduce learning rate when speed of converging decreases. \n",
    "        rlronp =  ReduceLROnPlateau(monitor='val_loss',\n",
    "                                    patience=3,\n",
    "                                    verbose=1,\n",
    "                                    factor=0.5,\n",
    "                                    min_lr=0.00005)\n",
    "        \n",
    "        callbacks.append(rlronp)\n",
    "    return callbacks"
   ]
  },
  {
   "cell_type": "markdown",
   "metadata": {},
   "source": [
    "### Setting Hyperparameters and starting training multiple candidates"
   ]
  },
  {
   "cell_type": "code",
   "execution_count": null,
   "metadata": {},
   "outputs": [],
   "source": [
    "epochs = 50\n",
    "Learning_rate = 0.001\n",
    "decay = 5 * Learning_rate / epochs\n",
    "optimizers = {'adam': Adam(lr=Learning_rate, decay= 3 * Learning_rate / epochs),\n",
    "              'rmsprop': RMSprop(lr=Learning_rate, rho=0.9, epsilon=1e-08, decay= 0)}"
   ]
  },
  {
   "cell_type": "code",
   "execution_count": null,
   "metadata": {},
   "outputs": [],
   "source": [
    "epochs = 50\n",
    "histories = {}\n",
    "models = {}\n",
    "\n",
    "for opt_name, opt in optimizers.items():\n",
    "    # Train a basic cnn\n",
    "    model_name = f'simple_cnn_{opt_name}'\n",
    "    model = SimpleCNN(opt)\n",
    "    history = model.train(data_generator, X_train, y_train, X_val, y_val,\n",
    "                            2048, epochs, get_callbacks(model_name))\n",
    "    histories[model_name] = history.history\n",
    "    models[model_name] = model\n",
    "\n",
    "    # Train shufflenetv2\n",
    "    model_name = f'shuffle_netv2_cylic_lr_{opt_name}'\n",
    "    model = ShuffleNetV2(opt)\n",
    "    history = model.train(data_generator, X_train, y_train, X_val, y_val,\n",
    "                              256, epochs, get_callbacks(model_name, use_cyclic_lr=True))\n",
    "    histories[model_name] = history.history\n",
    "    models[model_name] = model\n",
    "    \n",
    "    # Train wide resnet net\n",
    "    model_name = f'wide_resnet_{opt_name}'\n",
    "    model = WideResNet(opt)\n",
    "    history = model.train(data_generator, X_train, y_train, X_val, y_val,\n",
    "                              32, epochs, get_callbacks(model_name))\n",
    "    histories[model_name] = history.history\n",
    "    models[model_name] = model\n",
    "\n",
    "    # Train mobile_net\n",
    "    model_name = f'mobile_net_{opt_name}'\n",
    "    model = MobileNET(opt)\n",
    "    history = model.train(data_generator, X_train, y_train, X_val, y_val,\n",
    "                            16, epochs, get_callbacks(model_name))\n",
    "    histories[model_name] = history.history\n",
    "    models[model_name] = model\n",
    "    \n",
    "    # Train capsule net\n",
    "    model_name = f'capsnet_{opt_name}'\n",
    "    model = CapsuleNet(opt)\n",
    "    history = model.train(data_generator, X_train, y_train, X_val, y_val,\n",
    "                          16, epochs, get_callbacks(model_name))\n",
    "    histories[model_name] = history.history\n",
    "    models[model_name] = model"
   ]
  },
  {
   "cell_type": "markdown",
   "metadata": {},
   "source": [
    "## Plotting results\n",
    "`plot_accuracy_and_loss` function can be used without giving histories as a parameter to get the metrics from TensorBoard logs."
   ]
  },
  {
   "cell_type": "code",
   "execution_count": null,
   "metadata": {},
   "outputs": [],
   "source": [
    "plot_accuracy_and_loss(histories)"
   ]
  },
  {
   "cell_type": "markdown",
   "metadata": {},
   "source": [
    "## Plotting confussion matrices for some of the best models"
   ]
  },
  {
   "cell_type": "code",
   "execution_count": 3,
   "metadata": {},
   "outputs": [
    {
     "name": "stdout",
     "output_type": "stream",
     "text": [
      "WARNING:tensorflow:Tensor._shape is private, use Tensor.shape instead. Tensor._shape will eventually be removed.\n"
     ]
    },
    {
     "name": "stderr",
     "output_type": "stream",
     "text": [
      "2019-12-19 22:30:15,640 : WARNING : Tensor._shape is private, use Tensor.shape instead. Tensor._shape will eventually be removed.\n"
     ]
    },
    {
     "name": "stdout",
     "output_type": "stream",
     "text": [
      "WARNING:tensorflow:Tensor._shape is private, use Tensor.shape instead. Tensor._shape will eventually be removed.\n"
     ]
    },
    {
     "name": "stderr",
     "output_type": "stream",
     "text": [
      "2019-12-19 22:30:15,788 : WARNING : Tensor._shape is private, use Tensor.shape instead. Tensor._shape will eventually be removed.\n",
      "2019-12-19 22:30:20,528 : INFO : Loaded /home/cenk/Research/pre-trained-models/cv/fashion_mnist/capsnet_adam-24-0.95.hdf5\n",
      "Resizing training images: 10000it [00:00, 10162.47it/s]\n"
     ]
    },
    {
     "name": "stdout",
     "output_type": "stream",
     "text": [
      "Confusion Matrix\n"
     ]
    },
    {
     "data": {
      "image/png": "[encoded data removed]",
      "text/plain": [
       "<Figure size 432x288 with 1 Axes>"
      ]
     },
     "metadata": {
      "needs_background": "light"
     },
     "output_type": "display_data"
    },
    {
     "data": {
      "text/html": [
       "<div>\n",
       "<style scoped>\n",
       "    .dataframe tbody tr th:only-of-type {\n",
       "        vertical-align: middle;\n",
       "    }\n",
       "\n",
       "    .dataframe tbody tr th {\n",
       "        vertical-align: top;\n",
       "    }\n",
       "\n",
       "    .dataframe thead th {\n",
       "        text-align: right;\n",
       "    }\n",
       "</style>\n",
       "<table border=\"1\" class=\"dataframe\">\n",
       "  <thead>\n",
       "    <tr style=\"text-align: right;\">\n",
       "      <th></th>\n",
       "      <th>top</th>\n",
       "      <th>trouser</th>\n",
       "      <th>pullover</th>\n",
       "      <th>dress</th>\n",
       "      <th>coat</th>\n",
       "      <th>sandal</th>\n",
       "      <th>shirt</th>\n",
       "      <th>sneaker</th>\n",
       "      <th>bag</th>\n",
       "      <th>ankle boot</th>\n",
       "      <th>accuracy</th>\n",
       "      <th>macro avg</th>\n",
       "      <th>weighted avg</th>\n",
       "    </tr>\n",
       "  </thead>\n",
       "  <tbody>\n",
       "    <tr>\n",
       "      <th>precision</th>\n",
       "      <td>0.874647</td>\n",
       "      <td>0.997984</td>\n",
       "      <td>0.918065</td>\n",
       "      <td>0.948207</td>\n",
       "      <td>0.922179</td>\n",
       "      <td>0.987026</td>\n",
       "      <td>0.884058</td>\n",
       "      <td>0.971916</td>\n",
       "      <td>0.995010</td>\n",
       "      <td>0.968127</td>\n",
       "      <td>0.9468</td>\n",
       "      <td>0.946722</td>\n",
       "      <td>0.946722</td>\n",
       "    </tr>\n",
       "    <tr>\n",
       "      <th>recall</th>\n",
       "      <td>0.928000</td>\n",
       "      <td>0.990000</td>\n",
       "      <td>0.930000</td>\n",
       "      <td>0.952000</td>\n",
       "      <td>0.948000</td>\n",
       "      <td>0.989000</td>\n",
       "      <td>0.793000</td>\n",
       "      <td>0.969000</td>\n",
       "      <td>0.997000</td>\n",
       "      <td>0.972000</td>\n",
       "      <td>0.9468</td>\n",
       "      <td>0.946800</td>\n",
       "      <td>0.946800</td>\n",
       "    </tr>\n",
       "    <tr>\n",
       "      <th>f1-score</th>\n",
       "      <td>0.900534</td>\n",
       "      <td>0.993976</td>\n",
       "      <td>0.923994</td>\n",
       "      <td>0.950100</td>\n",
       "      <td>0.934911</td>\n",
       "      <td>0.988012</td>\n",
       "      <td>0.836057</td>\n",
       "      <td>0.970456</td>\n",
       "      <td>0.996004</td>\n",
       "      <td>0.970060</td>\n",
       "      <td>0.9468</td>\n",
       "      <td>0.946410</td>\n",
       "      <td>0.946410</td>\n",
       "    </tr>\n",
       "    <tr>\n",
       "      <th>support</th>\n",
       "      <td>1000.000000</td>\n",
       "      <td>1000.000000</td>\n",
       "      <td>1000.000000</td>\n",
       "      <td>1000.000000</td>\n",
       "      <td>1000.000000</td>\n",
       "      <td>1000.000000</td>\n",
       "      <td>1000.000000</td>\n",
       "      <td>1000.000000</td>\n",
       "      <td>1000.000000</td>\n",
       "      <td>1000.000000</td>\n",
       "      <td>0.9468</td>\n",
       "      <td>10000.000000</td>\n",
       "      <td>10000.000000</td>\n",
       "    </tr>\n",
       "  </tbody>\n",
       "</table>\n",
       "</div>"
      ],
      "text/plain": [
       "                   top      trouser     pullover        dress         coat  \\\n",
       "precision     0.874647     0.997984     0.918065     0.948207     0.922179   \n",
       "recall        0.928000     0.990000     0.930000     0.952000     0.948000   \n",
       "f1-score      0.900534     0.993976     0.923994     0.950100     0.934911   \n",
       "support    1000.000000  1000.000000  1000.000000  1000.000000  1000.000000   \n",
       "\n",
       "                sandal        shirt      sneaker          bag   ankle boot  \\\n",
       "precision     0.987026     0.884058     0.971916     0.995010     0.968127   \n",
       "recall        0.989000     0.793000     0.969000     0.997000     0.972000   \n",
       "f1-score      0.988012     0.836057     0.970456     0.996004     0.970060   \n",
       "support    1000.000000  1000.000000  1000.000000  1000.000000  1000.000000   \n",
       "\n",
       "           accuracy     macro avg  weighted avg  \n",
       "precision    0.9468      0.946722      0.946722  \n",
       "recall       0.9468      0.946800      0.946800  \n",
       "f1-score     0.9468      0.946410      0.946410  \n",
       "support      0.9468  10000.000000  10000.000000  "
      ]
     },
     "execution_count": 3,
     "metadata": {},
     "output_type": "execute_result"
    }
   ],
   "source": [
    "model = WideResNet(Adam())\n",
    "model.load_from_best_checkpoint('capsnet_adam')\n",
    "model.evaluate(X_val, y_val, plot_confussion=True)"
   ]
  },
  {
   "cell_type": "code",
   "execution_count": null,
   "metadata": {},
   "outputs": [],
   "source": []
  }
 ],
 "metadata": {
  "kernelspec": {
   "display_name": "Python 3",
   "language": "python",
   "name": "python3"
  },
  "language_info": {
   "codemirror_mode": {
    "name": "ipython",
    "version": 3
   },
   "file_extension": ".py",
   "mimetype": "text/x-python",
   "name": "python",
   "nbconvert_exporter": "python",
   "pygments_lexer": "ipython3",
   "version": "3.6.9"
  }
 },
 "nbformat": 4,
 "nbformat_minor": 1
}
